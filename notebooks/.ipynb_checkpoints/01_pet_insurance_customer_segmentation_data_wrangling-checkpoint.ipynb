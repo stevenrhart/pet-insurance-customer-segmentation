{
 "cells": [
  {
   "cell_type": "markdown",
   "id": "2591af4e",
   "metadata": {},
   "source": [
    "# Pet Insurance Customer Segmentation - Data Wrangling\n",
    "\n",
    "## 1 Introduction\n",
    "\n",
    "### 1.1 Background\n",
    "The Marketing department at a leading pet insurance provider is seeking to better understand its customer base to prevent customer loss and drive additional company revenue. Data suggests that customers are most likely to cancel their policies around the 2-year point following enrollment.   \n",
    "\n",
    "### 1.2 Project Goal\n",
    "The goal of this project is to identify 3-4 customer segments (with come justification for each) that will enable the Marketing team reduce customer shrinkage while improving outcomes related to targeted ads and/or direct-to-customer campaigns. \n",
    "\n",
    "Initial data suggests some key features that may be helpful for clustering include:\n",
    "* Pet species (cat or dog)\n",
    "* Amount of claims (in year 1, in year 2 and total)\n",
    "* Number of claims (in year 1, in year 2 and total)\n",
    "* Highest claim amount\n",
    "* Pet age\n",
    "\n",
    "### 1.3 Datasets\n",
    "The file PetData.csv contains enrollment and premium data for 50000 pets that enrolled in 2018. ClaimData.csv contains the dates and dollar amounts of claim submissions of pets between 2018 and 2021. Claim data for the two years following enrollment is included for the 50000 pets referenced in PetData.csv. \n",
    "\n",
    "PetData.csv contains the following columns:\n",
    "* `PetId` - a unique number that identifies enrolled pets\n",
    "* `EnrollDate` - the date of customer enrollment\n",
    "* `Species` - species of pet, dog or cat\n",
    "* `Breed` - breed of pet\n",
    "* `PetAge` - the age of the pet at enrollment \n",
    "* `Premium` - the monthly premium (in USD) of the pet’s insurance policy\n",
    "* `Deductible` - the deductible (in USD) of the pet’s insurance policy \n",
    "* `EnrollPath` - indicates whether the member enrolled via the company website or over the phone\n",
    "\n",
    "ClaimsData.csv contains the following columns:\n",
    "* `PetId` - a unique number that identifies enrolled pets\n",
    "* `ClaimId` - a unique number that identifies individual claims made by our members\n",
    "* `ClaimDate` - date of claim\n",
    "* `AmountClaimed` - amount of claim\n",
    "\n",
    "### 1.4 Questions for Data Wrangling\n",
    "1. Are there any missing values in the data?\n",
    "2. Do the distibutions of each column seem reasonable?\n",
    "3. How clean is the data overall, and what steps must be taken to prepare for a detailed exploratory data analysis?"
   ]
  },
  {
   "cell_type": "markdown",
   "id": "d4ef8e94",
   "metadata": {},
   "source": [
    "## 2 Setup\n",
    "\n",
    "### 2.1 Imports"
   ]
  },
  {
   "cell_type": "code",
   "execution_count": 1,
   "id": "83d8bb83",
   "metadata": {},
   "outputs": [],
   "source": [
    "import pandas as pd\n",
    "import numpy as np\n",
    "import datetime\n",
    "import re\n",
    "import matplotlib.pyplot as plt"
   ]
  },
  {
   "cell_type": "markdown",
   "id": "beb17f7b",
   "metadata": {},
   "source": [
    "### 2.2 Load Data"
   ]
  },
  {
   "cell_type": "code",
   "execution_count": 2,
   "id": "84b903f0",
   "metadata": {},
   "outputs": [],
   "source": [
    "# Read in the data files\n",
    "pets = pd.read_csv('../data/PetData.csv')\n",
    "claims = pd.read_csv('../data/ClaimData.csv')"
   ]
  },
  {
   "cell_type": "markdown",
   "id": "14bd36a4",
   "metadata": {},
   "source": [
    "### 2.3 Preview Data"
   ]
  },
  {
   "cell_type": "code",
   "execution_count": 3,
   "id": "d1e3012b",
   "metadata": {},
   "outputs": [
    {
     "data": {
      "text/html": [
       "<div>\n",
       "<style scoped>\n",
       "    .dataframe tbody tr th:only-of-type {\n",
       "        vertical-align: middle;\n",
       "    }\n",
       "\n",
       "    .dataframe tbody tr th {\n",
       "        vertical-align: top;\n",
       "    }\n",
       "\n",
       "    .dataframe thead th {\n",
       "        text-align: right;\n",
       "    }\n",
       "</style>\n",
       "<table border=\"1\" class=\"dataframe\">\n",
       "  <thead>\n",
       "    <tr style=\"text-align: right;\">\n",
       "      <th></th>\n",
       "      <th>PetId</th>\n",
       "      <th>EnrollDate</th>\n",
       "      <th>Species</th>\n",
       "      <th>Breed</th>\n",
       "      <th>PetAge</th>\n",
       "      <th>Premium</th>\n",
       "      <th>Deductible</th>\n",
       "      <th>EnrollPath</th>\n",
       "    </tr>\n",
       "  </thead>\n",
       "  <tbody>\n",
       "    <tr>\n",
       "      <th>0</th>\n",
       "      <td>0</td>\n",
       "      <td>9/18/18 17:51</td>\n",
       "      <td>Dog</td>\n",
       "      <td>Schnauzer - Standard</td>\n",
       "      <td>3 years old</td>\n",
       "      <td>84.54</td>\n",
       "      <td>200</td>\n",
       "      <td>Web</td>\n",
       "    </tr>\n",
       "    <tr>\n",
       "      <th>1</th>\n",
       "      <td>1</td>\n",
       "      <td>2/6/18 13:02</td>\n",
       "      <td>Dog</td>\n",
       "      <td>Yorkiepoo</td>\n",
       "      <td>8 weeks to 12 months old</td>\n",
       "      <td>50.33</td>\n",
       "      <td>500</td>\n",
       "      <td>Phone</td>\n",
       "    </tr>\n",
       "    <tr>\n",
       "      <th>2</th>\n",
       "      <td>2</td>\n",
       "      <td>8/22/18 11:23</td>\n",
       "      <td>Dog</td>\n",
       "      <td>Mixed breed Medium (20 - 55lbs when full grown)</td>\n",
       "      <td>8 weeks to 12 months old</td>\n",
       "      <td>74.00</td>\n",
       "      <td>500</td>\n",
       "      <td>Phone</td>\n",
       "    </tr>\n",
       "    <tr>\n",
       "      <th>3</th>\n",
       "      <td>3</td>\n",
       "      <td>12/5/18 9:13</td>\n",
       "      <td>Dog</td>\n",
       "      <td>Labrador Retriever (Black)</td>\n",
       "      <td>8 weeks to 12 months old</td>\n",
       "      <td>57.54</td>\n",
       "      <td>500</td>\n",
       "      <td>Phone</td>\n",
       "    </tr>\n",
       "    <tr>\n",
       "      <th>4</th>\n",
       "      <td>4</td>\n",
       "      <td>3/22/18 16:28</td>\n",
       "      <td>Dog</td>\n",
       "      <td>French Bulldog</td>\n",
       "      <td>8 weeks to 12 months old</td>\n",
       "      <td>60.69</td>\n",
       "      <td>700</td>\n",
       "      <td>Web</td>\n",
       "    </tr>\n",
       "  </tbody>\n",
       "</table>\n",
       "</div>"
      ],
      "text/plain": [
       "   PetId     EnrollDate Species  \\\n",
       "0      0  9/18/18 17:51     Dog   \n",
       "1      1   2/6/18 13:02     Dog   \n",
       "2      2  8/22/18 11:23     Dog   \n",
       "3      3   12/5/18 9:13     Dog   \n",
       "4      4  3/22/18 16:28     Dog   \n",
       "\n",
       "                                             Breed                    PetAge  \\\n",
       "0                             Schnauzer - Standard               3 years old   \n",
       "1                                        Yorkiepoo  8 weeks to 12 months old   \n",
       "2  Mixed breed Medium (20 - 55lbs when full grown)  8 weeks to 12 months old   \n",
       "3                       Labrador Retriever (Black)  8 weeks to 12 months old   \n",
       "4                                   French Bulldog  8 weeks to 12 months old   \n",
       "\n",
       "   Premium  Deductible EnrollPath  \n",
       "0    84.54         200        Web  \n",
       "1    50.33         500      Phone  \n",
       "2    74.00         500      Phone  \n",
       "3    57.54         500      Phone  \n",
       "4    60.69         700        Web  "
      ]
     },
     "execution_count": 3,
     "metadata": {},
     "output_type": "execute_result"
    }
   ],
   "source": [
    "# Preview pets data\n",
    "pets.head()"
   ]
  },
  {
   "cell_type": "code",
   "execution_count": 4,
   "id": "0b55f57b",
   "metadata": {},
   "outputs": [
    {
     "data": {
      "text/html": [
       "<div>\n",
       "<style scoped>\n",
       "    .dataframe tbody tr th:only-of-type {\n",
       "        vertical-align: middle;\n",
       "    }\n",
       "\n",
       "    .dataframe tbody tr th {\n",
       "        vertical-align: top;\n",
       "    }\n",
       "\n",
       "    .dataframe thead th {\n",
       "        text-align: right;\n",
       "    }\n",
       "</style>\n",
       "<table border=\"1\" class=\"dataframe\">\n",
       "  <thead>\n",
       "    <tr style=\"text-align: right;\">\n",
       "      <th></th>\n",
       "      <th>PetId</th>\n",
       "      <th>ClaimId</th>\n",
       "      <th>ClaimDate</th>\n",
       "      <th>AmountClaimed</th>\n",
       "    </tr>\n",
       "  </thead>\n",
       "  <tbody>\n",
       "    <tr>\n",
       "      <th>0</th>\n",
       "      <td>0</td>\n",
       "      <td>0</td>\n",
       "      <td>3/7/20 12:17</td>\n",
       "      <td>624.00</td>\n",
       "    </tr>\n",
       "    <tr>\n",
       "      <th>1</th>\n",
       "      <td>0</td>\n",
       "      <td>1</td>\n",
       "      <td>3/7/20 8:03</td>\n",
       "      <td>618.00</td>\n",
       "    </tr>\n",
       "    <tr>\n",
       "      <th>2</th>\n",
       "      <td>2</td>\n",
       "      <td>2</td>\n",
       "      <td>2/8/20 0:18</td>\n",
       "      <td>199.52</td>\n",
       "    </tr>\n",
       "    <tr>\n",
       "      <th>3</th>\n",
       "      <td>2</td>\n",
       "      <td>3</td>\n",
       "      <td>9/21/18 14:34</td>\n",
       "      <td>199.60</td>\n",
       "    </tr>\n",
       "    <tr>\n",
       "      <th>4</th>\n",
       "      <td>2</td>\n",
       "      <td>4</td>\n",
       "      <td>10/23/18 1:40</td>\n",
       "      <td>162.40</td>\n",
       "    </tr>\n",
       "  </tbody>\n",
       "</table>\n",
       "</div>"
      ],
      "text/plain": [
       "   PetId  ClaimId      ClaimDate  AmountClaimed\n",
       "0      0        0   3/7/20 12:17         624.00\n",
       "1      0        1    3/7/20 8:03         618.00\n",
       "2      2        2    2/8/20 0:18         199.52\n",
       "3      2        3  9/21/18 14:34         199.60\n",
       "4      2        4  10/23/18 1:40         162.40"
      ]
     },
     "execution_count": 4,
     "metadata": {},
     "output_type": "execute_result"
    }
   ],
   "source": [
    "# Preview claims data\n",
    "claims.head()"
   ]
  },
  {
   "cell_type": "markdown",
   "id": "c140af76",
   "metadata": {},
   "source": [
    "### 2.4 Initial Exploration"
   ]
  },
  {
   "cell_type": "code",
   "execution_count": 5,
   "id": "a95cabc1",
   "metadata": {},
   "outputs": [
    {
     "name": "stdout",
     "output_type": "stream",
     "text": [
      "<class 'pandas.core.frame.DataFrame'>\n",
      "RangeIndex: 50000 entries, 0 to 49999\n",
      "Data columns (total 8 columns):\n",
      " #   Column      Non-Null Count  Dtype  \n",
      "---  ------      --------------  -----  \n",
      " 0   PetId       50000 non-null  int64  \n",
      " 1   EnrollDate  50000 non-null  object \n",
      " 2   Species     50000 non-null  object \n",
      " 3   Breed       50000 non-null  object \n",
      " 4   PetAge      50000 non-null  object \n",
      " 5   Premium     50000 non-null  float64\n",
      " 6   Deductible  50000 non-null  int64  \n",
      " 7   EnrollPath  50000 non-null  object \n",
      "dtypes: float64(1), int64(2), object(5)\n",
      "memory usage: 3.1+ MB\n",
      "None\n",
      "\n",
      "\n",
      "<class 'pandas.core.frame.DataFrame'>\n",
      "RangeIndex: 210235 entries, 0 to 210234\n",
      "Data columns (total 4 columns):\n",
      " #   Column         Non-Null Count   Dtype  \n",
      "---  ------         --------------   -----  \n",
      " 0   PetId          210235 non-null  int64  \n",
      " 1   ClaimId        210235 non-null  int64  \n",
      " 2   ClaimDate      210235 non-null  object \n",
      " 3   AmountClaimed  210235 non-null  float64\n",
      "dtypes: float64(1), int64(2), object(1)\n",
      "memory usage: 6.4+ MB\n",
      "None\n"
     ]
    }
   ],
   "source": [
    "# Check column data types and for null values\n",
    "print(pets.info())\n",
    "print('\\n')\n",
    "print(claims.info())"
   ]
  },
  {
   "cell_type": "code",
   "execution_count": 6,
   "id": "a77066be",
   "metadata": {},
   "outputs": [
    {
     "name": "stdout",
     "output_type": "stream",
     "text": [
      "Count of unique values in each column in pets df :\n",
      "PetId         50000\n",
      "EnrollDate    43883\n",
      "Species           2\n",
      "Breed           377\n",
      "PetAge           15\n",
      "Premium       11862\n",
      "Deductible      189\n",
      "EnrollPath        3\n",
      "dtype: int64\n",
      "\n",
      "\n",
      "Count of unique values in each column in claims df :\n",
      "PetId             33882\n",
      "ClaimId          210235\n",
      "ClaimDate        188025\n",
      "AmountClaimed     75193\n",
      "dtype: int64\n"
     ]
    }
   ],
   "source": [
    "# Check for count of unique values in each column in the dfs\n",
    "print('Count of unique values in each column in pets df :')\n",
    "print(pets.nunique())\n",
    "print('\\n')\n",
    "print('Count of unique values in each column in claims df :')\n",
    "print(claims.nunique())"
   ]
  },
  {
   "cell_type": "markdown",
   "id": "6acccc4a",
   "metadata": {},
   "source": [
    "### 2.5 Initial Assessment\n",
    "Based on the above, there are no missing values in the data. In terms of data types, there are a handful of non-numeric columns that we'll need to figure out how to handle as we work toward building our clustering model.\n",
    "\n",
    "As a next step, let's review each column in more detail to get a better understanding of the data quality identify columns that will need additional handling. We'll start with the pets data and then move on to the claims data.\n",
    "\n",
    "## 3 Review Data by Column\n",
    "\n",
    "### 3. 1 Pets Data\n",
    "Based on the column dtypes and initial exploration, below is a list of next steps by column for our pets data.\n",
    "\n",
    "* `PetId` - Review range of IDs to ensure values are unique and confirm range\n",
    "* `EnrollDate` - Convert to datetime object and review distribution\n",
    "* `Species` - Review unique values and counts\n",
    "* `Breed` - Review unique values and counts \n",
    "* `PetAge` - Review unique values and counts, create new column for age in years\n",
    "* `Premium` - Review range of values and distribution\n",
    "* `Deductible` - Review range of values and distribution\n",
    "* `EnrollPath` - Review unique values and counts\n",
    "\n",
    "#### 3.1.1 PetId"
   ]
  },
  {
   "cell_type": "code",
   "execution_count": 7,
   "id": "29438370",
   "metadata": {},
   "outputs": [
    {
     "name": "stdout",
     "output_type": "stream",
     "text": [
      "Min value: 0\n",
      "Max value: 49999\n",
      "Number of unique values: 50000\n"
     ]
    }
   ],
   "source": [
    "# Check value ranges for PetId column\n",
    "print(\"Min value: \" + str(pets.PetId.min()))\n",
    "print(\"Max value: \" + str(pets.PetId.max()))\n",
    "print(\"Number of unique values: \" + str(pets.PetId.nunique()))"
   ]
  },
  {
   "cell_type": "markdown",
   "id": "c3ae79eb",
   "metadata": {},
   "source": [
    "**Result:** PetId values cover a range from 0 to 49999 with no duplicates."
   ]
  },
  {
   "cell_type": "markdown",
   "id": "66a84b81",
   "metadata": {},
   "source": [
    "#### 3.1.2 EnrollDate"
   ]
  },
  {
   "cell_type": "code",
   "execution_count": 8,
   "id": "b2e8a923",
   "metadata": {},
   "outputs": [
    {
     "data": {
      "image/png": "[encoded data removed]",
      "text/plain": [
       "<Figure size 432x288 with 1 Axes>"
      ]
     },
     "metadata": {
      "needs_background": "light"
     },
     "output_type": "display_data"
    }
   ],
   "source": [
    "# Convert EnrollDate and to datetime format\n",
    "pets.EnrollDate = pd.to_datetime(pets.EnrollDate, infer_datetime_format=True)\n",
    "\n",
    "# Review date distribution\n",
    "plt.figure(figsize=(6, 4))\n",
    "plt.title('Distribution of Enrollment Dates')\n",
    "plt.hist(pets.EnrollDate, bins = 12)\n",
    "plt.show()"
   ]
  },
  {
   "cell_type": "markdown",
   "id": "f77adeff",
   "metadata": {},
   "source": [
    "The distribution of enroll dates seems to be relatively uniform over the time period in question. No dates are observed outside of the expected 1-year range of values. \n",
    "\n",
    "#### 3.1.3 Species"
   ]
  },
  {
   "cell_type": "code",
   "execution_count": 9,
   "id": "e91ab1ce",
   "metadata": {},
   "outputs": [
    {
     "data": {
      "text/plain": [
       "Dog    41976\n",
       "Cat     8024\n",
       "Name: Species, dtype: int64"
      ]
     },
     "execution_count": 9,
     "metadata": {},
     "output_type": "execute_result"
    }
   ],
   "source": [
    "# Check Species column values\n",
    "pets.Species.value_counts()"
   ]
  },
  {
   "cell_type": "markdown",
   "id": "40e51bcb",
   "metadata": {},
   "source": [
    "Species values are split into two categories - Cat and Dog - with dogs making up the overwhelming majority of the data. Species will almost certainly factor in to clustering the pets, but for now it appears that no changes are needed. We may need to convert this column to a numeric dtype at some point, but for now will leave as-is.\n",
    "\n",
    "#### 3.1.4 Breed"
   ]
  },
  {
   "cell_type": "code",
   "execution_count": 10,
   "id": "944171db",
   "metadata": {},
   "outputs": [
    {
     "data": {
      "text/plain": [
       "Mixed breed Medium (20 - 55lbs when full grown)    4653\n",
       "Domestic Shorthair                                 3511\n",
       "Mixed breed Small (up to 20lbs when full grown)    3350\n",
       "Mixed breed Large (55 – 90lbs when full grown)     2302\n",
       "Golden Retriever                                   2025\n",
       "Goldendoodle                                       1867\n",
       "<Mixed Breed (Cat)>                                1541\n",
       "German Shepherd                                    1107\n",
       "Labradoodle                                        1090\n",
       "French Bulldog                                      996\n",
       "Shih Tzu                                            962\n",
       "Yorkshire Terrier                                   779\n",
       "Mixed breed (Unknown size)                          771\n",
       "Labrador Retriever (Black)                          656\n",
       "Cavalier King Charles Spaniel                       655\n",
       "Name: Breed, dtype: int64"
      ]
     },
     "execution_count": 10,
     "metadata": {},
     "output_type": "execute_result"
    }
   ],
   "source": [
    "# Review Breed column values\n",
    "pets.Breed.value_counts().head(15)"
   ]
  },
  {
   "cell_type": "markdown",
   "id": "83ff69aa",
   "metadata": {},
   "source": [
    "Handling of breed will be tricky given the large number of unique values (377) and the fact that it will likely play an important role in our final model. To start, we'll do some initial investigation of the fields to come up with a short list of cleaning steps in prep for EDA.\n",
    "\n",
    "A few immediate things stand out to me for initial investigation based on the preview above:\n",
    "* There are multiple versions of \"Mixed breed\" pets.\n",
    "* There are entries containing special characters.\n",
    "* There are entries with weight encoded as a parenthetical. \n",
    "\n",
    "Next, we'll look at each of these in turn...\n",
    "\n",
    "##### 3.1.4.1 Mixed breed pets"
   ]
  },
  {
   "cell_type": "code",
   "execution_count": 11,
   "id": "b1e94ff4",
   "metadata": {},
   "outputs": [
    {
     "data": {
      "text/plain": [
       "Breed                                                Species\n",
       "Mixed breed Medium (20 - 55lbs when full grown)      Dog        4653\n",
       "Mixed breed Small (up to 20lbs when full grown)      Dog        3350\n",
       "Mixed breed Large (55 – 90lbs when full grown)       Dog        2302\n",
       "<Mixed Breed (Cat)>                                  Cat        1541\n",
       "Mixed breed (Unknown size)                           Dog         771\n",
       "Mixed breed Giant (more than 90lbs when full grown)  Dog         185\n",
       "dtype: int64"
      ]
     },
     "execution_count": 11,
     "metadata": {},
     "output_type": "execute_result"
    }
   ],
   "source": [
    "# Investigate entries with a 'Mixed Breed' designation\n",
    "mixed_filter = pets['Breed'].str.contains(\"Mixed\")\n",
    "pets[[\"Breed\", \"Species\"]][mixed_filter].value_counts()"
   ]
  },
  {
   "cell_type": "markdown",
   "id": "fd866b5b",
   "metadata": {},
   "source": [
    "Well this is good news for a couple of reasons. \n",
    "1. We don't appear to have any \"Mixed breed\" designations that include pets from both species (i.e., Cats & Dogs)\n",
    "2. The designation of *Mixed breed Giant (more than 90lbs when full grown)* refers to a dog breed and not a cat breed. :)\n",
    "\n",
    "Next, let's take a look at breeds containing special characters.\n",
    "\n",
    "##### 3.1.4.2 Breed names containing special characters"
   ]
  },
  {
   "cell_type": "code",
   "execution_count": 12,
   "id": "f2344db1",
   "metadata": {},
   "outputs": [
    {
     "data": {
      "text/plain": [
       "Mixed breed Medium (20 - 55lbs when full grown)        4653\n",
       "Mixed breed Small (up to 20lbs when full grown)        3350\n",
       "Mixed breed Large (55 – 90lbs when full grown)         2302\n",
       "<Mixed Breed (Cat)>                                    1541\n",
       "Mixed breed (Unknown size)                              771\n",
       "Labrador Retriever (Black)                              656\n",
       "Labrador Retriever (Yellow)                             622\n",
       "Labrador Retriever (Chocolate)                          381\n",
       "Poodle-Standard                                         379\n",
       "Chihuahua (Short Coat)                                  362\n",
       "Poodle-Toy                                              327\n",
       "Poodle-Miniature                                        241\n",
       "Mixed breed Giant (more than 90lbs when full grown)     185\n",
       "Dachshund - Standard Smooth Haired                      168\n",
       "Pyrenean Mountain Dog (Great Pyrenees)                  115\n",
       "Dachshund - Standard Long Haired                         85\n",
       "Australian Cattle Dog/Blue Heeler                        79\n",
       "Catahoula Cur/Leopard Dog                                56\n",
       "Brussels Griffon (Brabancon)                             41\n",
       "Collie - Rough                                           40\n",
       "Flat-Coated Retriever                                    34\n",
       "Australian Cattle Dog/Red Heeler                         26\n",
       "Schnauzer - Standard                                     26\n",
       "Dachshund - Standard Wire Haired                         24\n",
       "Collie - Smooth                                          17\n",
       "Japanese Chin (Spaniel)                                  14\n",
       "Formosan (Taiwanese) Mountain Dog                        14\n",
       "Bull Terrier - Standard                                   8\n",
       "Scottish (Scottie)/Aberdeen Terrier                       8\n",
       "Dingo/Carolina                                            6\n",
       "Mi-Ki                                                     6\n",
       "Borzoi/Russian Wolfhound                                  5\n",
       "Saluki (Gazelle Hound)                                    4\n",
       "Berger Picard/Picardy Sheepdog                            3\n",
       "Stabyhoun (Stabij)                                        2\n",
       "Patterdale/Fell Terrier                                   2\n",
       "Cirneco dell'Etna                                         2\n",
       "Curly-Coated Retriever                                    2\n",
       "Fila Brasileiro/Brazillian Mastiff                        1\n",
       "Anatolian/Karabash Shepherd                               1\n",
       "Eurasian/Eurasier                                         1\n",
       "St. Johns Waterdog                                        1\n",
       "Name: Breed, dtype: int64"
      ]
     },
     "execution_count": 12,
     "metadata": {},
     "output_type": "execute_result"
    }
   ],
   "source": [
    "# Create filtered series of breeds containing special characters\n",
    "breed_sp_char = pets[pets.Breed.str.contains(r'[^\\w\\s]')]['Breed']\n",
    "\n",
    "# Preview values and counts\n",
    "breed_sp_char.value_counts()"
   ]
  },
  {
   "cell_type": "markdown",
   "id": "8a07cae6",
   "metadata": {},
   "source": [
    "Based on the list above, it looks like there won't be an easy way to deal with all special characters. Initial thoughts on cleaning are:\n",
    "1. For \"Mixed Breed\" dogs, convert to \"Mixed Breed Size\" where \"Size is replaced with one of Small, Medium, Large, Giant, Unknown.\n",
    "2. For Labrador Retriever breeds, remove the color designation completely and combine as \"Labrador Retriever\".\n",
    "3. For \"<Mixed Breed (Cat)>\", remove \"<\", \">\" and also \" (Cat)\".\n",
    "4. For all others, remove special characters and replace with whitespace, then remove any extra whitespace to finish off.\n",
    "\n",
    "In addition to the above, it might also be useful to include a new feature for if an animal is mixed breed or not. We can add this as a Boolean column to keep it simple.\n",
    "\n",
    "At this point, we could spend a lot more time researching dog breeds to understand which are the same and which are different and decide what to do on a case-by-case basis. However, at this stage, we don't even know how important breed will be in our final clustering model (or if we should even keep the column). So for now, we'll stick to the basic cleanup steps we mentioned above and leave the rest as-is.\n",
    "\n",
    "#### 3.1.5 PetAge"
   ]
  },
  {
   "cell_type": "code",
   "execution_count": 13,
   "id": "de5258d6",
   "metadata": {},
   "outputs": [
    {
     "data": {
      "text/plain": [
       "8 weeks to 12 months old    31375\n",
       "1 year old                   4728\n",
       "2 years old                  3348\n",
       "3 years old                  2268\n",
       "4 years old                  1816\n",
       "5 years old                  1475\n",
       "6 years old                  1255\n",
       "7 years old                  1017\n",
       "8 years old                   819\n",
       "9 years old                   548\n",
       "10 years old                  484\n",
       "0-7 weeks old                 363\n",
       "11 years old                  242\n",
       "12 years old                  154\n",
       "13 years old                  108\n",
       "Name: PetAge, dtype: int64"
      ]
     },
     "execution_count": 13,
     "metadata": {},
     "output_type": "execute_result"
    }
   ],
   "source": [
    "# Review PetAge unique values\n",
    "pets.PetAge.value_counts()"
   ]
  },
  {
   "cell_type": "markdown",
   "id": "0b93e293",
   "metadata": {},
   "source": [
    "In the PetAge column, we have a range of categories corresponding with various ages at time of enrollment. As a first step in cleaning, we can convert the column into numeric values based on a pet's age in years. Looking at the data above, it appears that our data is heavily skewed toward younger pets which makes sense. In addition to converting PetAge to an integer value for the age in years, we can also capture some information to differentiate whether a pet enrolled before 8 weeks of age, between 8 weeks and 12 months, or after 1 year.\n",
    "\n",
    "As we get into EDA, we should keep an eye on how pet age correlates with other features in the data such as number of claims, average claims, etc.\n",
    "\n",
    "#### 3.1.6 Premium\n"
   ]
  },
  {
   "cell_type": "code",
   "execution_count": 14,
   "id": "fda24be7",
   "metadata": {},
   "outputs": [
    {
     "name": "stdout",
     "output_type": "stream",
     "text": [
      "count    50000.000000\n",
      "mean        64.002255\n",
      "std         34.118388\n",
      "min         11.010000\n",
      "25%         40.770000\n",
      "50%         56.060000\n",
      "75%         77.640000\n",
      "max        711.430000\n",
      "Name: Premium, dtype: float64\n"
     ]
    }
   ],
   "source": [
    "# Review values in Premium column\n",
    "print(pets.Premium.describe())"
   ]
  },
  {
   "cell_type": "markdown",
   "id": "ae42efc9",
   "metadata": {},
   "source": [
    "Overall, the range of premiums seems reasonable, but the max value indicates we may have some outliers on the high end. Let's isolate those higher premium values (> \\\\$200) to take a closer look and decide on next steps."
   ]
  },
  {
   "cell_type": "code",
   "execution_count": 15,
   "id": "12e255aa",
   "metadata": {},
   "outputs": [
    {
     "data": {
      "image/png": "[encoded data removed]",
      "text/plain": [
       "<Figure size 432x288 with 1 Axes>"
      ]
     },
     "metadata": {
      "needs_background": "light"
     },
     "output_type": "display_data"
    }
   ],
   "source": [
    "# Isolate rows with high premiums for additional review\n",
    "high_prems = pets[pets['Premium'] > 200]\n",
    "\n",
    "# Review date distribution\n",
    "plt.figure(figsize=(6, 4))\n",
    "plt.title('Distribution of High Premiums')\n",
    "plt.hist(high_prems.Premium, bins = 20)\n",
    "plt.show()"
   ]
  },
  {
   "cell_type": "markdown",
   "id": "65bd6827",
   "metadata": {},
   "source": [
    "Looking at the distribution above, we can see that we have  about 175 pets with premiums between \\\\$200 and \\\\$225, roughly 75 pets between \\\\$225 and \\\\$250, and then it drops off significantly beyond that. We can also see that the number of pets with premiums above \\\\$400 is very small. Let's do a bit more analysis before determining next steps."
   ]
  },
  {
   "cell_type": "code",
   "execution_count": 16,
   "id": "5b817563",
   "metadata": {},
   "outputs": [
    {
     "data": {
      "text/plain": [
       "8 weeks to 12 months old    129\n",
       "2 years old                  21\n",
       "6 years old                  21\n",
       "7 years old                  20\n",
       "9 years old                  20\n",
       "10 years old                 19\n",
       "8 years old                  18\n",
       "3 years old                  18\n",
       "5 years old                  13\n",
       "4 years old                  12\n",
       "1 year old                   11\n",
       "11 years old                 11\n",
       "13 years old                  8\n",
       "12 years old                  6\n",
       "0-7 weeks old                 3\n",
       "Name: PetAge, dtype: int64"
      ]
     },
     "execution_count": 16,
     "metadata": {},
     "output_type": "execute_result"
    }
   ],
   "source": [
    "# Review the number of pets with high premiums by age group\n",
    "high_prems.PetAge.value_counts()"
   ]
  },
  {
   "cell_type": "markdown",
   "id": "97077b87",
   "metadata": {},
   "source": [
    "Pet age does not appear to factor in to premium amount in any meaningful way. We could go deeper at this point, but let's leave that analysis to a later stage. During EDA we may decide to drop the outlier premiums, but for now, we'll leave them in as they do seem plausible despite being quite high. \n",
    "\n",
    "#### 3.1.7 Deductible"
   ]
  },
  {
   "cell_type": "code",
   "execution_count": 17,
   "id": "c8682b4d",
   "metadata": {},
   "outputs": [
    {
     "name": "stdout",
     "output_type": "stream",
     "text": [
      "count    50000.000000\n",
      "mean       495.017800\n",
      "std        299.549359\n",
      "min          0.000000\n",
      "25%        200.000000\n",
      "50%        500.000000\n",
      "75%        700.000000\n",
      "max       1000.000000\n",
      "Name: Deductible, dtype: float64\n",
      "\n",
      "\n",
      "The number of unique deductible amounts is 189\n"
     ]
    }
   ],
   "source": [
    "# Review Deductible column values\n",
    "print(pets.Deductible.describe())\n",
    "print('\\n')\n",
    "print(\"The number of unique deductible amounts is \" + str(pets.Deductible.nunique()))"
   ]
  },
  {
   "cell_type": "markdown",
   "id": "6db93eaf",
   "metadata": {},
   "source": [
    "The deductible values seem reasonable. There are no negative values and the range of values goes from \\\\$0 to \\\\$1000. Before we move on, let's take a look at the distribution."
   ]
  },
  {
   "cell_type": "code",
   "execution_count": 18,
   "id": "24ab5710",
   "metadata": {},
   "outputs": [
    {
     "data": {
      "image/png": "[encoded data removed]",
      "text/plain": [
       "<Figure size 432x288 with 1 Axes>"
      ]
     },
     "metadata": {
      "needs_background": "light"
     },
     "output_type": "display_data"
    }
   ],
   "source": [
    "# Plot a distribution of Deductible\n",
    "plt.hist(pets['Deductible'], bins=20)\n",
    "plt.title('Deductible Distribution')\n",
    "plt.show()"
   ]
  },
  {
   "cell_type": "markdown",
   "id": "f35449ec",
   "metadata": {},
   "source": [
    "There appear to be some popular categories of deductibles, likely centered on nice round numbers (e.g., \\\\$250, \\\\$500, etc.), but otherwise the distribution seems roughly the same by species.\n",
    "\n",
    "#### 3.1.8 EnrollPath"
   ]
  },
  {
   "cell_type": "code",
   "execution_count": 19,
   "id": "1f27c64c",
   "metadata": {},
   "outputs": [
    {
     "data": {
      "text/plain": [
       "Web      25486\n",
       "Phone    23525\n",
       "EB         989\n",
       "Name: EnrollPath, dtype: int64"
      ]
     },
     "execution_count": 19,
     "metadata": {},
     "output_type": "execute_result"
    }
   ],
   "source": [
    "#Review EnrollPath column values\n",
    "pets.EnrollPath.value_counts()"
   ]
  },
  {
   "cell_type": "markdown",
   "id": "b9b90674",
   "metadata": {},
   "source": [
    "It's unclear whether EnrollPath will be critical to our model, but with only three possible values, it will be easy enough to convert this column to numeric for use in our clustering model later on if necessary.\n",
    "\n",
    "### 3.2 Claims Data\n",
    "Based on the column dtypes and initial exploration, below is a list of next steps by column for our claims data.\n",
    "* `PetId` - Review range of values in comparison to pets dataframe\n",
    "* `ClaimId` - Review range of values and check for duplicates\n",
    "* `ClaimDate` - Convert to datetime object and review disribution of claims data\n",
    "* `AmountClaimed` - Review range of values and distribution\n",
    "\n",
    "#### 3.2.1 PetId"
   ]
  },
  {
   "cell_type": "code",
   "execution_count": 20,
   "id": "2458e195",
   "metadata": {},
   "outputs": [
    {
     "name": "stdout",
     "output_type": "stream",
     "text": [
      "Min value: 0\n",
      "Max value: 59998\n",
      "Number of unique values: 33882\n"
     ]
    }
   ],
   "source": [
    "# Check value ranges for PetId column\n",
    "print(\"Min value: \" + str(claims.PetId.min()))\n",
    "print(\"Max value: \" + str(claims.PetId.max()))\n",
    "print(\"Number of unique values: \" + str(claims.PetId.nunique()))"
   ]
  },
  {
   "cell_type": "markdown",
   "id": "4d129393",
   "metadata": {},
   "source": [
    "The range of PetIds is larger than the range of PetIds in the Pets data. As a next step during cleaning, we can drop any rows with PetIds > 49999.\n",
    "\n",
    "#### 3.2.2 ClaimId"
   ]
  },
  {
   "cell_type": "code",
   "execution_count": 21,
   "id": "4913193b",
   "metadata": {},
   "outputs": [
    {
     "name": "stdout",
     "output_type": "stream",
     "text": [
      "Number of duplicate ClaimId values = 0\n"
     ]
    }
   ],
   "source": [
    "# Review ClaimId column values to check for duplicates\n",
    "print(\"Number of duplicate ClaimId values = \" + str(claims['ClaimId'].nunique() - claims['ClaimId'].count()))"
   ]
  },
  {
   "cell_type": "markdown",
   "id": "ef755c0f",
   "metadata": {},
   "source": [
    "No duplicates or missing values were discovered, so all claims appear to be valid (or at least as far as we can tell). That said, this column appears to be low value for our analysis and can probably be dropped. \n",
    "\n",
    "#### 3.2.3 ClaimDate"
   ]
  },
  {
   "cell_type": "code",
   "execution_count": 22,
   "id": "0319227f",
   "metadata": {},
   "outputs": [
    {
     "data": {
      "image/png": "[encoded data removed]",
      "text/plain": [
       "<Figure size 1152x288 with 1 Axes>"
      ]
     },
     "metadata": {
      "needs_background": "light"
     },
     "output_type": "display_data"
    }
   ],
   "source": [
    "# Convert ClaimDate and to datetime format\n",
    "claims.ClaimDate = pd.to_datetime(claims.ClaimDate, infer_datetime_format=True)\n",
    "\n",
    "# Review date distribution\n",
    "plt.figure(figsize=(16, 4))\n",
    "plt.title('Distribution of Claim Dates')\n",
    "plt.hist(claims.ClaimDate, bins = 24)\n",
    "plt.show()"
   ]
  },
  {
   "cell_type": "markdown",
   "id": "7226ca95",
   "metadata": {},
   "source": [
    "The distribution seems reasonable given what we know about the data. As we are tracking data for pets enrolled within the span of a year, we would expect the number of claims to slowly ramp up over the first 12 months.\n",
    "\n",
    "Once we drop the rows for the superluous PetIds, we can verify that our claims fall within the first two years for each of our pets based on the EnrollDate. Any claims that fall outside of that range can be dropped since our objective is to predict claims totals for year 2. \n",
    "\n",
    "#### 3.2.4 AmountClaimed"
   ]
  },
  {
   "cell_type": "code",
   "execution_count": 23,
   "id": "ca12199c",
   "metadata": {},
   "outputs": [
    {
     "data": {
      "text/plain": [
       "count    210235.000000\n",
       "mean        476.871470\n",
       "std         940.580385\n",
       "min        -725.150000\n",
       "25%          92.350000\n",
       "50%         199.030000\n",
       "75%         441.250000\n",
       "max       45084.990000\n",
       "Name: AmountClaimed, dtype: float64"
      ]
     },
     "execution_count": 23,
     "metadata": {},
     "output_type": "execute_result"
    }
   ],
   "source": [
    "# Review Claims Amounts\n",
    "claims.AmountClaimed.describe()"
   ]
  },
  {
   "cell_type": "markdown",
   "id": "868bbaa4",
   "metadata": {},
   "source": [
    "There appear to be a couple of possible issues in the above. First, the min value for amount is negative which does not seem possible. And second, the max value indicates we have some outlier claims (up to \\\\$45k) that are quite far from our mean claim value of \\\\$477. Let's drill into both and see what we can find."
   ]
  },
  {
   "cell_type": "code",
   "execution_count": 24,
   "id": "c7336689",
   "metadata": {},
   "outputs": [
    {
     "name": "stdout",
     "output_type": "stream",
     "text": [
      "Number of negative claims: 3\n",
      "Number of claims above $10k: 138\n"
     ]
    }
   ],
   "source": [
    "# Check for number of negative values\n",
    "print(\"Number of negative claims: \" + str(claims[claims['AmountClaimed'] < 0]['ClaimId'].count()))\n",
    "\n",
    "# Check for number of high claims (> $10,000)\n",
    "print(\"Number of claims above $10k: \" + str(claims[claims['AmountClaimed'] > 10000]['ClaimId'].count()))"
   ]
  },
  {
   "cell_type": "code",
   "execution_count": 25,
   "id": "d507f4ea",
   "metadata": {},
   "outputs": [
    {
     "data": {
      "image/png": "[encoded data removed]",
      "text/plain": [
       "<Figure size 432x288 with 1 Axes>"
      ]
     },
     "metadata": {
      "needs_background": "light"
     },
     "output_type": "display_data"
    }
   ],
   "source": [
    "# Review distribution of claims amounts between 0-10000\n",
    "adj_claims = claims[(claims['AmountClaimed'] > 0) & (claims['AmountClaimed'] < 10000)]['AmountClaimed']\n",
    "\n",
    "plt.figure(figsize=(6, 4))\n",
    "plt.title('Distribution of Claim Amounts')\n",
    "plt.hist(adj_claims, bins = 50)\n",
    "plt.show()"
   ]
  },
  {
   "cell_type": "markdown",
   "id": "1f99d758",
   "metadata": {},
   "source": [
    "The claims amounts appear to be heavily clustered between \\\\$0 and \\\\$2000 with a few outlier claims amounts in the \\\\$2000 to \\\\$10000 range. Before we decide what to do with the outliers on the high end of the range, let's take a closer look at the low end of the range to see if there is any reason for concern. \n"
   ]
  },
  {
   "cell_type": "code",
   "execution_count": 26,
   "id": "0948ce0d",
   "metadata": {},
   "outputs": [
    {
     "data": {
      "image/png": "[encoded data removed]",
      "text/plain": [
       "<Figure size 432x288 with 1 Axes>"
      ]
     },
     "metadata": {
      "needs_background": "light"
     },
     "output_type": "display_data"
    }
   ],
   "source": [
    "# Investigate low claims amounts\n",
    "low_claims = claims[(claims['AmountClaimed'] >= 0) & (claims['AmountClaimed'] < 10)]['AmountClaimed']\n",
    "low_claims.hist(bins=10);"
   ]
  },
  {
   "cell_type": "code",
   "execution_count": 27,
   "id": "fc498feb",
   "metadata": {},
   "outputs": [
    {
     "data": {
      "image/png": "[encoded data removed]",
      "text/plain": [
       "<Figure size 432x288 with 1 Axes>"
      ]
     },
     "metadata": {
      "needs_background": "light"
     },
     "output_type": "display_data"
    }
   ],
   "source": [
    "# Investigate high claims amounts\n",
    "high_claims = claims[(claims['AmountClaimed'] >= 10000)]['AmountClaimed']\n",
    "high_claims.hist(bins=10);"
   ]
  },
  {
   "cell_type": "markdown",
   "id": "209e2f19",
   "metadata": {},
   "source": [
    "\n",
    "On the low end, we have a number of claims for \\\\$0. If we assume claim amount is equal to the amount paid to the policy holder, then this could indicate that the claim was denied for some reason (e.g., the ailment or treatment was not covered by the policy) or it could indicate that the claim amount was not high enough to trigger a pay out (i.e., the claim amount was below the deductible for the policy).\n",
    "\n",
    "On the high end, the number of claims between \\\\$10k and \\\\$15k is relatively high (about 125), but not in comparison to the total number of claims in the dataset (210,235).\n",
    "\n",
    "All of that said, we don't have a good reason to eliminate the \\\\$0 or very large claims amounts as they could be legitimate. We can leave this for now as something to explore further during EDA. \n",
    "\n",
    "### 3.3 Summary of Observations\n",
    "\n",
    "#### 3.3.1 Pets Data\n",
    "* `PetId` - No changes required. The column type is already numeric and contains no duplicate or missing values. PetId will be used to associate pet data with claims data.\n",
    "* `EnrollDate` - The distribution of enrollment dates seems reasonable. It will be good to confirm that there are no claims that occur prior to a pet's enrollment. This analysis can be done as a next step by comparing enrollment dates and claims dates for each PetId. \n",
    "* `Species` - This column contains two unique values - Cat and Dog. Dogs greatly outnumber cats in our data, so we'll need to keep an eye on this and likely spend some time analyzing the differences when we get into EDA. In addition, the we'll need to convert this to a numeric column if we want to use in our clustering model later on in the process.\n",
    "* `Breed` - This column may be helpful for clustering and we've already identified some initial steps to take to clean up the data. It's possible we may want to exclude Breed given the high number of unique values and no apparent method for grouping or reducing them.\n",
    "* `PetAge` - For now, we'll convert this to a simple integer value for the age of the pet at the time of enrollment.\n",
    "* `Premium` - We identified a handful of outlier values in this column, but otherwise the distribution looked OK. We can always take another look in EDA.\n",
    "* `Deductible` - The distribution of deductible amounts seems reasonable, so no changes needed for now.\n",
    "* `EnrollPath` - We can convert this column to numeric for use in our clustering model.\n",
    "\n",
    "#### 3.3.2 Claims data\n",
    "* `PetId` - The range of PetIds is larger than the range of PetIds in the Pets data. As a next step, we can drop any rows with PetIds > 49999.\n",
    "* `ClaimId` - No duplicates or missing values were discovered, so all claims appear to be valid. That said, this column appears to be low value for our analysis and can be dropped. \n",
    "* `ClaimDate` - Once we drop the rows for the superluous PetIds, we can verify that our claims fall within the first two years for each of our pets based on the EnrollDate. Any claims that fall outside of that range can be dropped since our objective is to predict claims totals for year 2. \n",
    "* `AmountClaimed` - In this column, we identified a few negative claims that should be dropped (assuming claims can only be for \\\\$0 (i.e., rejected claims) or positive amounts). In addition, there are outlier claims at the top and bottom end of the range and we can spend more time investigating during EDA."
   ]
  },
  {
   "cell_type": "markdown",
   "id": "60d17e8a",
   "metadata": {},
   "source": [
    "## 4 - Data Cleaning \n",
    "Based on the observations above, we'll take the following steps to clean the data:\n",
    "\n",
    "### 4.1 Pets Data\n",
    "1. Create new 'Age' column to capture a pet's age in years\n",
    "2. For \"Mixed Breed\" dogs, convert to \"Mixed Breed Size\" where \"Size is replaced with one of Small, Medium, Large, Giant, Unknown.\n",
    "3. For Labrador Retriever breeds, remove the color designation completely and combine as \"Labrador Retriever\".\n",
    "4. For \"<Mixed Breed (Cat)>\", remove \"<\", \">\" and also \" (Cat)\".\n",
    "5. For all others breeds, remove special characters and replace with whitespace (and then remove any extra whitespace to finish off).\n",
    "6. Add a new feature to designate whether an animal is mixed breed or not.\n",
    "\n",
    "#### 4.1.1 PetAge - Create new column for age in years at time of enrollment"
   ]
  },
  {
   "cell_type": "code",
   "execution_count": 28,
   "id": "d9c3cc47",
   "metadata": {},
   "outputs": [],
   "source": [
    "# Create dictionary for converting PetAge column values to age in years \n",
    "age_mapping = {'0-7 weeks old': 0, '8 weeks to 12 months old': 0, '1 year old': 1, '2 years old': 2, \n",
    "               '3 years old': 3, '4 years old': 4, '5 years old': 5, '6 years old': 6, '7 years old': 7,\n",
    "               '8 years old': 8, '9 years old': 9, '10 years old': 10, '11 years old': 11, '12 years old': 12,\n",
    "               '13 years old': 13}\n",
    "\n",
    "# Create new AgeYr1 column and map to values based on PetAge column\n",
    "pets['AgeYr1'] = pets.PetAge.map(age_mapping)"
   ]
  },
  {
   "cell_type": "code",
   "execution_count": 29,
   "id": "efd665a3",
   "metadata": {},
   "outputs": [
    {
     "data": {
      "image/png": "[encoded data removed]",
      "text/plain": [
       "<Figure size 432x288 with 1 Axes>"
      ]
     },
     "metadata": {
      "needs_background": "light"
     },
     "output_type": "display_data"
    }
   ],
   "source": [
    "# Plot a distribution of AgeYr1\n",
    "plt.figure(figsize=(6, 4))\n",
    "plt.title('Distribution of Pet Ages')\n",
    "plt.hist(pets.AgeYr1, bins = 14)\n",
    "plt.show()"
   ]
  },
  {
   "cell_type": "markdown",
   "id": "8c59adf5",
   "metadata": {},
   "source": [
    "#### 4.1.2 Breed\n",
    "\n",
    "##### 4.1.2.1 Cleanup similar breed names \n",
    "For \"Mixed Breed\" dogs, convert to \"Mixed Breed Size\" where \"Size is replaced with one of Small, Medium, Large, Giant, Unknown."
   ]
  },
  {
   "cell_type": "code",
   "execution_count": 30,
   "id": "85ee9e8c",
   "metadata": {},
   "outputs": [
    {
     "data": {
      "text/plain": [
       "Breed                 Species\n",
       "Mixed Breed Medium    Dog        4653\n",
       "Mixed Breed Small     Dog        3350\n",
       "Mixed Breed Large     Dog        2302\n",
       "Labrador Retriever    Dog        2244\n",
       "Mixed Breed           Cat        1541\n",
       "Mixed Breed Unknown   Dog         771\n",
       "Mixed Breed Giant     Dog         185\n",
       "Portuguese Water Dog  Dog         133\n",
       "dtype: int64"
      ]
     },
     "execution_count": 30,
     "metadata": {},
     "output_type": "execute_result"
    }
   ],
   "source": [
    "# Create dictionary for converting Breed column values to age in years \n",
    "breed_mapping = {'Mixed breed Medium (20 - 55lbs when full grown)': 'Mixed Breed Medium',\n",
    "               'Mixed breed Small (up to 20lbs when full grown)': 'Mixed Breed Small',\n",
    "               'Mixed breed Large (55 – 90lbs when full grown)': 'Mixed Breed Large',\n",
    "               'Mixed breed (Unknown size)': 'Mixed Breed Unknown',\n",
    "               'Mixed breed Giant (more than 90lbs when full grown)': 'Mixed Breed Giant',\n",
    "               '<Mixed Breed (Cat)>': 'Mixed Breed',\n",
    "                'Labrador Retriever (Black)': 'Labrador Retriever', \n",
    "                'Labrador Retriever (Yellow)': 'Labrador Retriever',\n",
    "                'Labrador Retriever (Chocolate)': 'Labrador Retriever',\n",
    "                'Portuguese Water': 'Portuguese Water Dog'}\n",
    "\n",
    "# Update Breed column values based on mapping leaving non-matching values as-is\n",
    "pets['Breed'] = pets['Breed'].map(breed_mapping).fillna(pets['Breed'])\n",
    "\n",
    "# Confirm changes for Mixed Breed\n",
    "breed_filter = pets['Breed'].str.contains(\"Mixed|Labrador|Portuguese Water\")\n",
    "pets[[\"Breed\", \"Species\"]][breed_filter].value_counts()"
   ]
  },
  {
   "cell_type": "markdown",
   "id": "2b4b0752",
   "metadata": {},
   "source": [
    "##### 4.1.2.2 Remove special characters from breed names & trim excess whitespace"
   ]
  },
  {
   "cell_type": "code",
   "execution_count": 31,
   "id": "177669da",
   "metadata": {},
   "outputs": [],
   "source": [
    "# Remove remaining special characters from Breed column\n",
    "pets['Breed'] = pets['Breed'].map(lambda breed: re.sub(r'\\W+', ' ', breed))\n",
    "\n",
    "# Verify changes by recreating previous filter and confirming count is now 0\n",
    "breed_sp_char = pets[pets.Breed.str.contains(r'[^\\w\\s]')]['Breed']\n",
    "assert breed_sp_char.count() == 0"
   ]
  },
  {
   "cell_type": "code",
   "execution_count": 32,
   "id": "bf5bffbc",
   "metadata": {},
   "outputs": [],
   "source": [
    "# Trim excess whitespace\n",
    "pets['Breed'] = pets['Breed'].map(lambda breed: re.sub(r'\\w([ ]{2,})\\w', ' ', breed))\n",
    "\n",
    "# Verify changes\n",
    "assert pets[pets.Breed.str.contains(r'[ ]{2,}')]['Breed'].count() == 0"
   ]
  },
  {
   "cell_type": "markdown",
   "id": "5c6fc0db",
   "metadata": {},
   "source": [
    "#### 4.1.2.3 Add new column for MixedBreed designation\n",
    "Add a new feature to designate whether an animal is mixed breed or not."
   ]
  },
  {
   "cell_type": "code",
   "execution_count": 33,
   "id": "ae5be613",
   "metadata": {},
   "outputs": [],
   "source": [
    "# Create new column to designate pets that are Mixed Breed\n",
    "pets['MixedBreed'] = np.where(pets['Breed'].str.contains(\"Mixed\"), 1, 0)\n",
    "\n",
    "# Verify result\n",
    "assert pets[pets['MixedBreed'] == 1]['MixedBreed'].sum() == pets[pets['Breed']\n",
    "                                                                 .str.contains(\"Mixed\")]['Breed'].count()"
   ]
  },
  {
   "cell_type": "markdown",
   "id": "94cfd9b2",
   "metadata": {},
   "source": [
    "\n",
    "### 4.2 Claims Data\n",
    "1. Drop rows where PetId > 49999 (since we don't have claims data for Ids above 49999)\n",
    "2. Drop ClaimId column (feature provides no value for our clustering model)\n",
    "3. For AmountClaimed, drop negative claims (assume claims must be positive and the number of negative claims is very small)\n",
    "4. For ClaimDate, confirm the following:\n",
    "    * No claims occur prior to enrollment date for each PetId (assume claims prior to enrollment are invalid)\n",
    "    * No claims occur beyond two years from the enrollment date for each PetId (clustering model is focused on ploicy years one and two) \n",
    "\n",
    "#### 4.2.1 Drop pets with PetIds outside of the acceptable range"
   ]
  },
  {
   "cell_type": "code",
   "execution_count": 34,
   "id": "a7e8c7c3",
   "metadata": {},
   "outputs": [],
   "source": [
    "# Drop rows from claims with PetID > 49999\n",
    "claims = claims[claims['PetId'] < 50000]\n",
    "\n",
    "# Confirm changes\n",
    "assert claims.PetId.max() < 50000"
   ]
  },
  {
   "cell_type": "markdown",
   "id": "3706002d",
   "metadata": {},
   "source": [
    "#### 4.2.2 Drop the ClaimId column"
   ]
  },
  {
   "cell_type": "code",
   "execution_count": 35,
   "id": "ac055d6a",
   "metadata": {},
   "outputs": [],
   "source": [
    "# Drop ClaimId column\n",
    "claims.drop(columns=['ClaimId'], inplace=True)"
   ]
  },
  {
   "cell_type": "markdown",
   "id": "fcd63066",
   "metadata": {},
   "source": [
    "#### 4.2.3 Drop rows with negative claims"
   ]
  },
  {
   "cell_type": "code",
   "execution_count": 36,
   "id": "bbab1f3e",
   "metadata": {},
   "outputs": [],
   "source": [
    "# Drop negative claims\n",
    "claims = claims[claims['AmountClaimed'] > 0]\n",
    "\n",
    "# Confirm changes\n",
    "assert claims.AmountClaimed.min() > 0"
   ]
  },
  {
   "cell_type": "markdown",
   "id": "792001a8",
   "metadata": {},
   "source": [
    "#### 4.2.4 Check for claims that occur prior to enrollment"
   ]
  },
  {
   "cell_type": "code",
   "execution_count": 37,
   "id": "90f14e78",
   "metadata": {},
   "outputs": [
    {
     "name": "stdout",
     "output_type": "stream",
     "text": [
      "The number of claims occuring prior to enrollment is 1043\n"
     ]
    }
   ],
   "source": [
    "# Create mapping of PetId to EnrollDate\n",
    "id_enroll_map = pd.Series(pets.EnrollDate.values,index=pets.PetId).to_dict()\n",
    "\n",
    "# Create new EnrollDate column and map to values based on PetId column\n",
    "claims['EnrollDate'] = claims.PetId.map(id_enroll_map)\n",
    "\n",
    "# Count number of columns where ClaimDate is before EnrollDate\n",
    "before_enroll = claims[claims['ClaimDate'] < claims['EnrollDate']]\n",
    "print(\"The number of claims occuring prior to enrollment is \" + str(before_enroll.PetId.count()))"
   ]
  },
  {
   "cell_type": "markdown",
   "id": "1eda90ef",
   "metadata": {},
   "source": [
    "#### 4.2.5 Drop claims that occur prior to enrollment"
   ]
  },
  {
   "cell_type": "code",
   "execution_count": 38,
   "id": "69ba4f51",
   "metadata": {},
   "outputs": [],
   "source": [
    "# Remove rows where claims date is less than enroll date\n",
    "claims = claims[claims['ClaimDate'] >= claims['EnrollDate']]\n",
    "\n",
    "assert claims[claims['ClaimDate'] < claims['EnrollDate']]['PetId'].count() == 0"
   ]
  },
  {
   "cell_type": "markdown",
   "id": "c455c04e",
   "metadata": {},
   "source": [
    "#### 4.2.6 Check for claims outside of the 2-year window of analysis"
   ]
  },
  {
   "cell_type": "code",
   "execution_count": 39,
   "id": "c2a864ee",
   "metadata": {},
   "outputs": [
    {
     "name": "stdout",
     "output_type": "stream",
     "text": [
      "The number of claims greater than 2 years old is 36569\n"
     ]
    }
   ],
   "source": [
    "# Create timedelta for 2 years\n",
    "delta = datetime.timedelta(days=730) \n",
    "\n",
    "# Count number of claims occuring more than 2 years past enrollment date\n",
    "over_2_yrs = claims[(claims['ClaimDate'] - claims['EnrollDate']) > delta]\n",
    "print(\"The number of claims greater than 2 years old is \" + str(over_2_yrs.PetId.count()))"
   ]
  },
  {
   "cell_type": "markdown",
   "id": "a167891e",
   "metadata": {},
   "source": [
    "#### 4.2.7 Drop claims outside the 2-year window"
   ]
  },
  {
   "cell_type": "code",
   "execution_count": 40,
   "id": "5581356b",
   "metadata": {},
   "outputs": [],
   "source": [
    "# Remove rows where claims date is greater than 2 years from enroll date\n",
    "claims = claims[(claims['ClaimDate'] - claims['EnrollDate']) <= delta]\n",
    "\n",
    "assert claims[(claims['ClaimDate'] - claims['EnrollDate']) > delta]['PetId'].count() == 0"
   ]
  },
  {
   "cell_type": "markdown",
   "id": "6d4b3753",
   "metadata": {},
   "source": [
    "### 4.3 Save the cleaned claims data"
   ]
  },
  {
   "cell_type": "code",
   "execution_count": 41,
   "id": "dab0744a",
   "metadata": {},
   "outputs": [],
   "source": [
    "# Write the cleaned claims data to csv for future analysis if needed\n",
    "claims.to_csv('../data/cleaned_claims.csv')"
   ]
  },
  {
   "cell_type": "markdown",
   "id": "f93b36ed",
   "metadata": {},
   "source": [
    "## 5 Consolidating Pets and Claims Data\n",
    "Now that the initial cleaning steps are complete, we can work on merging our two data sets together. To recap, we have two dataframes - one with data for each of our policy holders and a second with claims data for each of our policy holders over the first two years of their policies. Next, we need to determine the best way to combine these dataframes in a way that will preserve the information most relevant to our overall objective of predicting the total claims amount in year two.\n",
    "\n",
    "### 5.1 Aggregate Claims Data\n",
    "Given the stated objective, let's work on generating the following new columns from our claims dataframe aggregated on a per customer basis:\n",
    "* Total number of claims (year 1, year 2, total) \n",
    "* Total claims amount (year 1, year 2, total)\n",
    "* Avg claims amount (year 1, year 2, both years)\n",
    "* Highest value claim\n",
    "\n",
    "To achieve this, we'll complete the following:\n",
    "1. Calculate the policy year for each row in claims and add to a new column 'Year'\n",
    "2. Group claims by PetId and Year to generate new columns for number of claims by year, total claims by year, and average claims by year\n",
    "3. Pivot the data by PetId and Year\n",
    "\n",
    "#### 5.1.1 Calculate policy year for each claim"
   ]
  },
  {
   "cell_type": "code",
   "execution_count": 42,
   "id": "5cc4815f",
   "metadata": {},
   "outputs": [
    {
     "data": {
      "text/plain": [
       "Yr1    82964\n",
       "Yr2    71925\n",
       "Name: Year, dtype: int64"
      ]
     },
     "execution_count": 42,
     "metadata": {},
     "output_type": "execute_result"
    }
   ],
   "source": [
    "# Create a function to generate the policy year for each claim\n",
    "def get_claim_year(row):\n",
    "    \"\"\"Calculate policy year for a claim given the ClaimDate and EnrollDate.\"\"\"\n",
    "    \n",
    "    delta = datetime.timedelta(days=365) # Create timedelta for 1 year\n",
    "    \n",
    "    if row[1] - row[3] <= delta:\n",
    "        year = 'Yr1'\n",
    "    else:\n",
    "        year = 'Yr2'\n",
    "    \n",
    "    return year\n",
    "\n",
    "# Apply function to generate new column\n",
    "claims['Year'] = claims.apply(lambda x: get_claim_year(x), axis = 1)\n",
    "\n",
    "# Check distribution of values between year 1 and year 2\n",
    "claims.Year.value_counts()"
   ]
  },
  {
   "cell_type": "markdown",
   "id": "f77e7810",
   "metadata": {},
   "source": [
    "#### 5.1.2 Group claims by PetId and Year to generate new columns"
   ]
  },
  {
   "cell_type": "code",
   "execution_count": 43,
   "id": "45a5ce11",
   "metadata": {},
   "outputs": [
    {
     "data": {
      "text/html": [
       "<div>\n",
       "<style scoped>\n",
       "    .dataframe tbody tr th:only-of-type {\n",
       "        vertical-align: middle;\n",
       "    }\n",
       "\n",
       "    .dataframe tbody tr th {\n",
       "        vertical-align: top;\n",
       "    }\n",
       "\n",
       "    .dataframe thead th {\n",
       "        text-align: right;\n",
       "    }\n",
       "</style>\n",
       "<table border=\"1\" class=\"dataframe\">\n",
       "  <thead>\n",
       "    <tr style=\"text-align: right;\">\n",
       "      <th></th>\n",
       "      <th>PetId</th>\n",
       "      <th>Year</th>\n",
       "      <th>NumClaims</th>\n",
       "      <th>AmtClaims</th>\n",
       "      <th>AvgClaims</th>\n",
       "      <th>MaxClaim</th>\n",
       "    </tr>\n",
       "  </thead>\n",
       "  <tbody>\n",
       "    <tr>\n",
       "      <th>0</th>\n",
       "      <td>0</td>\n",
       "      <td>Yr2</td>\n",
       "      <td>2</td>\n",
       "      <td>1242.00</td>\n",
       "      <td>621.000000</td>\n",
       "      <td>624.00</td>\n",
       "    </tr>\n",
       "    <tr>\n",
       "      <th>1</th>\n",
       "      <td>2</td>\n",
       "      <td>Yr1</td>\n",
       "      <td>3</td>\n",
       "      <td>640.63</td>\n",
       "      <td>213.543333</td>\n",
       "      <td>278.63</td>\n",
       "    </tr>\n",
       "    <tr>\n",
       "      <th>2</th>\n",
       "      <td>2</td>\n",
       "      <td>Yr2</td>\n",
       "      <td>5</td>\n",
       "      <td>1187.68</td>\n",
       "      <td>237.536000</td>\n",
       "      <td>336.56</td>\n",
       "    </tr>\n",
       "    <tr>\n",
       "      <th>3</th>\n",
       "      <td>4</td>\n",
       "      <td>Yr1</td>\n",
       "      <td>9</td>\n",
       "      <td>7212.25</td>\n",
       "      <td>801.361111</td>\n",
       "      <td>3103.40</td>\n",
       "    </tr>\n",
       "    <tr>\n",
       "      <th>4</th>\n",
       "      <td>4</td>\n",
       "      <td>Yr2</td>\n",
       "      <td>1</td>\n",
       "      <td>168.75</td>\n",
       "      <td>168.750000</td>\n",
       "      <td>168.75</td>\n",
       "    </tr>\n",
       "  </tbody>\n",
       "</table>\n",
       "</div>"
      ],
      "text/plain": [
       "   PetId Year  NumClaims  AmtClaims   AvgClaims  MaxClaim\n",
       "0      0  Yr2          2    1242.00  621.000000    624.00\n",
       "1      2  Yr1          3     640.63  213.543333    278.63\n",
       "2      2  Yr2          5    1187.68  237.536000    336.56\n",
       "3      4  Yr1          9    7212.25  801.361111   3103.40\n",
       "4      4  Yr2          1     168.75  168.750000    168.75"
      ]
     },
     "execution_count": 43,
     "metadata": {},
     "output_type": "execute_result"
    }
   ],
   "source": [
    "# Group by PetId and Year, aggregate AmountClaimed as count, sum, avg\n",
    "claims_df = claims.groupby(['PetId', 'Year']).agg({'AmountClaimed': ['count', 'sum', 'mean', 'max']})\n",
    "\n",
    "# Assign new column names\n",
    "claims_df.columns = ['NumClaims', 'AmtClaims', 'AvgClaims', 'MaxClaim']\n",
    "\n",
    "# Reset index\n",
    "claims_df = claims_df.reset_index()\n",
    "\n",
    "# Preview the df\n",
    "claims_df.head()"
   ]
  },
  {
   "cell_type": "markdown",
   "id": "0f59a26e",
   "metadata": {},
   "source": [
    "#### 5.1.3 Pivot the data by PetId and Year"
   ]
  },
  {
   "cell_type": "code",
   "execution_count": 45,
   "id": "b19d6535",
   "metadata": {},
   "outputs": [
    {
     "data": {
      "text/html": [
       "<div>\n",
       "<style scoped>\n",
       "    .dataframe tbody tr th:only-of-type {\n",
       "        vertical-align: middle;\n",
       "    }\n",
       "\n",
       "    .dataframe tbody tr th {\n",
       "        vertical-align: top;\n",
       "    }\n",
       "\n",
       "    .dataframe thead th {\n",
       "        text-align: right;\n",
       "    }\n",
       "</style>\n",
       "<table border=\"1\" class=\"dataframe\">\n",
       "  <thead>\n",
       "    <tr style=\"text-align: right;\">\n",
       "      <th></th>\n",
       "      <th>AmtClaimsYr1</th>\n",
       "      <th>AmtClaimsYr2</th>\n",
       "      <th>AvgClaimsYr1</th>\n",
       "      <th>AvgClaimsYr2</th>\n",
       "      <th>MaxClaimYr1</th>\n",
       "      <th>MaxClaimYr2</th>\n",
       "      <th>NumClaimsYr1</th>\n",
       "      <th>NumClaimsYr2</th>\n",
       "    </tr>\n",
       "    <tr>\n",
       "      <th>PetId</th>\n",
       "      <th></th>\n",
       "      <th></th>\n",
       "      <th></th>\n",
       "      <th></th>\n",
       "      <th></th>\n",
       "      <th></th>\n",
       "      <th></th>\n",
       "      <th></th>\n",
       "    </tr>\n",
       "  </thead>\n",
       "  <tbody>\n",
       "    <tr>\n",
       "      <th>0</th>\n",
       "      <td>0.00</td>\n",
       "      <td>1242.00</td>\n",
       "      <td>0.000000</td>\n",
       "      <td>621.000</td>\n",
       "      <td>0.00</td>\n",
       "      <td>624.00</td>\n",
       "      <td>0</td>\n",
       "      <td>2</td>\n",
       "    </tr>\n",
       "    <tr>\n",
       "      <th>2</th>\n",
       "      <td>640.63</td>\n",
       "      <td>1187.68</td>\n",
       "      <td>213.543333</td>\n",
       "      <td>237.536</td>\n",
       "      <td>278.63</td>\n",
       "      <td>336.56</td>\n",
       "      <td>3</td>\n",
       "      <td>5</td>\n",
       "    </tr>\n",
       "    <tr>\n",
       "      <th>4</th>\n",
       "      <td>7212.25</td>\n",
       "      <td>168.75</td>\n",
       "      <td>801.361111</td>\n",
       "      <td>168.750</td>\n",
       "      <td>3103.40</td>\n",
       "      <td>168.75</td>\n",
       "      <td>9</td>\n",
       "      <td>1</td>\n",
       "    </tr>\n",
       "    <tr>\n",
       "      <th>5</th>\n",
       "      <td>2665.67</td>\n",
       "      <td>0.00</td>\n",
       "      <td>296.185556</td>\n",
       "      <td>0.000</td>\n",
       "      <td>960.18</td>\n",
       "      <td>0.00</td>\n",
       "      <td>9</td>\n",
       "      <td>0</td>\n",
       "    </tr>\n",
       "    <tr>\n",
       "      <th>6</th>\n",
       "      <td>0.00</td>\n",
       "      <td>811.38</td>\n",
       "      <td>0.000000</td>\n",
       "      <td>811.380</td>\n",
       "      <td>0.00</td>\n",
       "      <td>811.38</td>\n",
       "      <td>0</td>\n",
       "      <td>1</td>\n",
       "    </tr>\n",
       "  </tbody>\n",
       "</table>\n",
       "</div>"
      ],
      "text/plain": [
       "       AmtClaimsYr1  AmtClaimsYr2  AvgClaimsYr1  AvgClaimsYr2  MaxClaimYr1  \\\n",
       "PetId                                                                        \n",
       "0              0.00       1242.00      0.000000       621.000         0.00   \n",
       "2            640.63       1187.68    213.543333       237.536       278.63   \n",
       "4           7212.25        168.75    801.361111       168.750      3103.40   \n",
       "5           2665.67          0.00    296.185556         0.000       960.18   \n",
       "6              0.00        811.38      0.000000       811.380         0.00   \n",
       "\n",
       "       MaxClaimYr2  NumClaimsYr1  NumClaimsYr2  \n",
       "PetId                                           \n",
       "0           624.00             0             2  \n",
       "2           336.56             3             5  \n",
       "4           168.75             9             1  \n",
       "5             0.00             9             0  \n",
       "6           811.38             0             1  "
      ]
     },
     "execution_count": 45,
     "metadata": {},
     "output_type": "execute_result"
    }
   ],
   "source": [
    "# Pivot the data to generate new columns for each year\n",
    "claims_pivot = pd.pivot_table(claims_df, values=['NumClaims','AmtClaims', 'AvgClaims', 'MaxClaim'], index=['PetId'],\n",
    "                       columns=['Year'], fill_value=0)\n",
    "\n",
    "# Combine multilevel column names\n",
    "claims_pivot.columns = claims_pivot.columns.to_series().apply(''.join)\n",
    "\n",
    "# Preview the new claims dataframe\n",
    "claims_pivot.head()"
   ]
  },
  {
   "cell_type": "markdown",
   "id": "1bb169c1",
   "metadata": {},
   "source": [
    "#### 5.1.4 Identify the highest claim overall"
   ]
  },
  {
   "cell_type": "code",
   "execution_count": 46,
   "id": "3929bdc8",
   "metadata": {},
   "outputs": [],
   "source": [
    "# Create a new column for \"HighestClaim\" and fill with the max value between Yr1 and Yr2\n",
    "claims_pivot[\"MaxClaim\"] = claims_pivot[[\"MaxClaimYr1\", \"MaxClaimYr2\"]].max(axis=1)"
   ]
  },
  {
   "cell_type": "code",
   "execution_count": 47,
   "id": "699902a7",
   "metadata": {},
   "outputs": [],
   "source": [
    "# Drop \"HighestClaimYr1\" and \"HighestClaimYr2\"\n",
    "claims_pivot.drop(columns=[\"MaxClaimYr1\", \"MaxClaimYr2\"], inplace=True)"
   ]
  },
  {
   "cell_type": "markdown",
   "id": "aa3a012c",
   "metadata": {},
   "source": [
    "### 5.2 Merge the Data\n",
    "Now that we have our aggregated claims data, we can merge that back into our original pets dataframe. First, we'll set the index of the pets dataframe to PetId. Then we'll concatenate the two dataframes into one.\n",
    "\n",
    "#### 5.2.1 Set index to PetId"
   ]
  },
  {
   "cell_type": "code",
   "execution_count": 48,
   "id": "f7ccdfcf",
   "metadata": {},
   "outputs": [
    {
     "data": {
      "text/html": [
       "<div>\n",
       "<style scoped>\n",
       "    .dataframe tbody tr th:only-of-type {\n",
       "        vertical-align: middle;\n",
       "    }\n",
       "\n",
       "    .dataframe tbody tr th {\n",
       "        vertical-align: top;\n",
       "    }\n",
       "\n",
       "    .dataframe thead th {\n",
       "        text-align: right;\n",
       "    }\n",
       "</style>\n",
       "<table border=\"1\" class=\"dataframe\">\n",
       "  <thead>\n",
       "    <tr style=\"text-align: right;\">\n",
       "      <th></th>\n",
       "      <th>EnrollDate</th>\n",
       "      <th>Species</th>\n",
       "      <th>Breed</th>\n",
       "      <th>PetAge</th>\n",
       "      <th>Premium</th>\n",
       "      <th>Deductible</th>\n",
       "      <th>EnrollPath</th>\n",
       "      <th>AgeYr1</th>\n",
       "      <th>MixedBreed</th>\n",
       "    </tr>\n",
       "    <tr>\n",
       "      <th>PetId</th>\n",
       "      <th></th>\n",
       "      <th></th>\n",
       "      <th></th>\n",
       "      <th></th>\n",
       "      <th></th>\n",
       "      <th></th>\n",
       "      <th></th>\n",
       "      <th></th>\n",
       "      <th></th>\n",
       "    </tr>\n",
       "  </thead>\n",
       "  <tbody>\n",
       "    <tr>\n",
       "      <th>0</th>\n",
       "      <td>2018-09-18 17:51:00</td>\n",
       "      <td>Dog</td>\n",
       "      <td>Schnauzer Standard</td>\n",
       "      <td>3 years old</td>\n",
       "      <td>84.54</td>\n",
       "      <td>200</td>\n",
       "      <td>Web</td>\n",
       "      <td>3</td>\n",
       "      <td>0</td>\n",
       "    </tr>\n",
       "    <tr>\n",
       "      <th>1</th>\n",
       "      <td>2018-02-06 13:02:00</td>\n",
       "      <td>Dog</td>\n",
       "      <td>Yorkiepoo</td>\n",
       "      <td>8 weeks to 12 months old</td>\n",
       "      <td>50.33</td>\n",
       "      <td>500</td>\n",
       "      <td>Phone</td>\n",
       "      <td>0</td>\n",
       "      <td>0</td>\n",
       "    </tr>\n",
       "    <tr>\n",
       "      <th>2</th>\n",
       "      <td>2018-08-22 11:23:00</td>\n",
       "      <td>Dog</td>\n",
       "      <td>Mixed Breed Medium</td>\n",
       "      <td>8 weeks to 12 months old</td>\n",
       "      <td>74.00</td>\n",
       "      <td>500</td>\n",
       "      <td>Phone</td>\n",
       "      <td>0</td>\n",
       "      <td>1</td>\n",
       "    </tr>\n",
       "    <tr>\n",
       "      <th>3</th>\n",
       "      <td>2018-12-05 09:13:00</td>\n",
       "      <td>Dog</td>\n",
       "      <td>Labrador Retriever</td>\n",
       "      <td>8 weeks to 12 months old</td>\n",
       "      <td>57.54</td>\n",
       "      <td>500</td>\n",
       "      <td>Phone</td>\n",
       "      <td>0</td>\n",
       "      <td>0</td>\n",
       "    </tr>\n",
       "    <tr>\n",
       "      <th>4</th>\n",
       "      <td>2018-03-22 16:28:00</td>\n",
       "      <td>Dog</td>\n",
       "      <td>French Bulldog</td>\n",
       "      <td>8 weeks to 12 months old</td>\n",
       "      <td>60.69</td>\n",
       "      <td>700</td>\n",
       "      <td>Web</td>\n",
       "      <td>0</td>\n",
       "      <td>0</td>\n",
       "    </tr>\n",
       "  </tbody>\n",
       "</table>\n",
       "</div>"
      ],
      "text/plain": [
       "               EnrollDate Species               Breed  \\\n",
       "PetId                                                   \n",
       "0     2018-09-18 17:51:00     Dog  Schnauzer Standard   \n",
       "1     2018-02-06 13:02:00     Dog           Yorkiepoo   \n",
       "2     2018-08-22 11:23:00     Dog  Mixed Breed Medium   \n",
       "3     2018-12-05 09:13:00     Dog  Labrador Retriever   \n",
       "4     2018-03-22 16:28:00     Dog      French Bulldog   \n",
       "\n",
       "                         PetAge  Premium  Deductible EnrollPath  AgeYr1  \\\n",
       "PetId                                                                     \n",
       "0                   3 years old    84.54         200        Web       3   \n",
       "1      8 weeks to 12 months old    50.33         500      Phone       0   \n",
       "2      8 weeks to 12 months old    74.00         500      Phone       0   \n",
       "3      8 weeks to 12 months old    57.54         500      Phone       0   \n",
       "4      8 weeks to 12 months old    60.69         700        Web       0   \n",
       "\n",
       "       MixedBreed  \n",
       "PetId              \n",
       "0               0  \n",
       "1               0  \n",
       "2               1  \n",
       "3               0  \n",
       "4               0  "
      ]
     },
     "execution_count": 48,
     "metadata": {},
     "output_type": "execute_result"
    }
   ],
   "source": [
    "# Set index to PetId\n",
    "pets = pets.set_index('PetId')\n",
    "\n",
    "# Preview the updated dataframe\n",
    "pets.head()"
   ]
  },
  {
   "cell_type": "markdown",
   "id": "47d07343",
   "metadata": {},
   "source": [
    "#### 5.2.2 Concatentate the data"
   ]
  },
  {
   "cell_type": "code",
   "execution_count": 49,
   "id": "a91a29a0",
   "metadata": {},
   "outputs": [
    {
     "data": {
      "text/html": [
       "<div>\n",
       "<style scoped>\n",
       "    .dataframe tbody tr th:only-of-type {\n",
       "        vertical-align: middle;\n",
       "    }\n",
       "\n",
       "    .dataframe tbody tr th {\n",
       "        vertical-align: top;\n",
       "    }\n",
       "\n",
       "    .dataframe thead th {\n",
       "        text-align: right;\n",
       "    }\n",
       "</style>\n",
       "<table border=\"1\" class=\"dataframe\">\n",
       "  <thead>\n",
       "    <tr style=\"text-align: right;\">\n",
       "      <th></th>\n",
       "      <th>EnrollDate</th>\n",
       "      <th>Species</th>\n",
       "      <th>Breed</th>\n",
       "      <th>PetAge</th>\n",
       "      <th>Premium</th>\n",
       "      <th>Deductible</th>\n",
       "      <th>EnrollPath</th>\n",
       "      <th>AgeYr1</th>\n",
       "      <th>MixedBreed</th>\n",
       "      <th>AmtClaimsYr1</th>\n",
       "      <th>AmtClaimsYr2</th>\n",
       "      <th>AvgClaimsYr1</th>\n",
       "      <th>AvgClaimsYr2</th>\n",
       "      <th>NumClaimsYr1</th>\n",
       "      <th>NumClaimsYr2</th>\n",
       "      <th>MaxClaim</th>\n",
       "    </tr>\n",
       "    <tr>\n",
       "      <th>PetId</th>\n",
       "      <th></th>\n",
       "      <th></th>\n",
       "      <th></th>\n",
       "      <th></th>\n",
       "      <th></th>\n",
       "      <th></th>\n",
       "      <th></th>\n",
       "      <th></th>\n",
       "      <th></th>\n",
       "      <th></th>\n",
       "      <th></th>\n",
       "      <th></th>\n",
       "      <th></th>\n",
       "      <th></th>\n",
       "      <th></th>\n",
       "      <th></th>\n",
       "    </tr>\n",
       "  </thead>\n",
       "  <tbody>\n",
       "    <tr>\n",
       "      <th>0</th>\n",
       "      <td>2018-09-18 17:51:00</td>\n",
       "      <td>Dog</td>\n",
       "      <td>Schnauzer Standard</td>\n",
       "      <td>3 years old</td>\n",
       "      <td>84.54</td>\n",
       "      <td>200</td>\n",
       "      <td>Web</td>\n",
       "      <td>3</td>\n",
       "      <td>0</td>\n",
       "      <td>0.00</td>\n",
       "      <td>1242.00</td>\n",
       "      <td>0.000000</td>\n",
       "      <td>621.000</td>\n",
       "      <td>0.0</td>\n",
       "      <td>2.0</td>\n",
       "      <td>624.00</td>\n",
       "    </tr>\n",
       "    <tr>\n",
       "      <th>1</th>\n",
       "      <td>2018-02-06 13:02:00</td>\n",
       "      <td>Dog</td>\n",
       "      <td>Yorkiepoo</td>\n",
       "      <td>8 weeks to 12 months old</td>\n",
       "      <td>50.33</td>\n",
       "      <td>500</td>\n",
       "      <td>Phone</td>\n",
       "      <td>0</td>\n",
       "      <td>0</td>\n",
       "      <td>NaN</td>\n",
       "      <td>NaN</td>\n",
       "      <td>NaN</td>\n",
       "      <td>NaN</td>\n",
       "      <td>NaN</td>\n",
       "      <td>NaN</td>\n",
       "      <td>NaN</td>\n",
       "    </tr>\n",
       "    <tr>\n",
       "      <th>2</th>\n",
       "      <td>2018-08-22 11:23:00</td>\n",
       "      <td>Dog</td>\n",
       "      <td>Mixed Breed Medium</td>\n",
       "      <td>8 weeks to 12 months old</td>\n",
       "      <td>74.00</td>\n",
       "      <td>500</td>\n",
       "      <td>Phone</td>\n",
       "      <td>0</td>\n",
       "      <td>1</td>\n",
       "      <td>640.63</td>\n",
       "      <td>1187.68</td>\n",
       "      <td>213.543333</td>\n",
       "      <td>237.536</td>\n",
       "      <td>3.0</td>\n",
       "      <td>5.0</td>\n",
       "      <td>336.56</td>\n",
       "    </tr>\n",
       "    <tr>\n",
       "      <th>3</th>\n",
       "      <td>2018-12-05 09:13:00</td>\n",
       "      <td>Dog</td>\n",
       "      <td>Labrador Retriever</td>\n",
       "      <td>8 weeks to 12 months old</td>\n",
       "      <td>57.54</td>\n",
       "      <td>500</td>\n",
       "      <td>Phone</td>\n",
       "      <td>0</td>\n",
       "      <td>0</td>\n",
       "      <td>NaN</td>\n",
       "      <td>NaN</td>\n",
       "      <td>NaN</td>\n",
       "      <td>NaN</td>\n",
       "      <td>NaN</td>\n",
       "      <td>NaN</td>\n",
       "      <td>NaN</td>\n",
       "    </tr>\n",
       "    <tr>\n",
       "      <th>4</th>\n",
       "      <td>2018-03-22 16:28:00</td>\n",
       "      <td>Dog</td>\n",
       "      <td>French Bulldog</td>\n",
       "      <td>8 weeks to 12 months old</td>\n",
       "      <td>60.69</td>\n",
       "      <td>700</td>\n",
       "      <td>Web</td>\n",
       "      <td>0</td>\n",
       "      <td>0</td>\n",
       "      <td>7212.25</td>\n",
       "      <td>168.75</td>\n",
       "      <td>801.361111</td>\n",
       "      <td>168.750</td>\n",
       "      <td>9.0</td>\n",
       "      <td>1.0</td>\n",
       "      <td>3103.40</td>\n",
       "    </tr>\n",
       "  </tbody>\n",
       "</table>\n",
       "</div>"
      ],
      "text/plain": [
       "               EnrollDate Species               Breed  \\\n",
       "PetId                                                   \n",
       "0     2018-09-18 17:51:00     Dog  Schnauzer Standard   \n",
       "1     2018-02-06 13:02:00     Dog           Yorkiepoo   \n",
       "2     2018-08-22 11:23:00     Dog  Mixed Breed Medium   \n",
       "3     2018-12-05 09:13:00     Dog  Labrador Retriever   \n",
       "4     2018-03-22 16:28:00     Dog      French Bulldog   \n",
       "\n",
       "                         PetAge  Premium  Deductible EnrollPath  AgeYr1  \\\n",
       "PetId                                                                     \n",
       "0                   3 years old    84.54         200        Web       3   \n",
       "1      8 weeks to 12 months old    50.33         500      Phone       0   \n",
       "2      8 weeks to 12 months old    74.00         500      Phone       0   \n",
       "3      8 weeks to 12 months old    57.54         500      Phone       0   \n",
       "4      8 weeks to 12 months old    60.69         700        Web       0   \n",
       "\n",
       "       MixedBreed  AmtClaimsYr1  AmtClaimsYr2  AvgClaimsYr1  AvgClaimsYr2  \\\n",
       "PetId                                                                       \n",
       "0               0          0.00       1242.00      0.000000       621.000   \n",
       "1               0           NaN           NaN           NaN           NaN   \n",
       "2               1        640.63       1187.68    213.543333       237.536   \n",
       "3               0           NaN           NaN           NaN           NaN   \n",
       "4               0       7212.25        168.75    801.361111       168.750   \n",
       "\n",
       "       NumClaimsYr1  NumClaimsYr2  MaxClaim  \n",
       "PetId                                        \n",
       "0               0.0           2.0    624.00  \n",
       "1               NaN           NaN       NaN  \n",
       "2               3.0           5.0    336.56  \n",
       "3               NaN           NaN       NaN  \n",
       "4               9.0           1.0   3103.40  "
      ]
     },
     "execution_count": 49,
     "metadata": {},
     "output_type": "execute_result"
    }
   ],
   "source": [
    "# Concatenate the dataframes\n",
    "merged_pets = pd.concat([pets, claims_pivot], axis=1)\n",
    "\n",
    "# Preview the result\n",
    "merged_pets.head()"
   ]
  },
  {
   "cell_type": "markdown",
   "id": "0de45a6a",
   "metadata": {},
   "source": [
    "#### 5.2.3 Review column types and check for missing values\n",
    "Now that we have a merged dataset, let's take another look at the data and decide what to do to wrap up the cleaning effort."
   ]
  },
  {
   "cell_type": "code",
   "execution_count": 50,
   "id": "7d405342",
   "metadata": {},
   "outputs": [
    {
     "name": "stdout",
     "output_type": "stream",
     "text": [
      "<class 'pandas.core.frame.DataFrame'>\n",
      "Int64Index: 50000 entries, 0 to 49999\n",
      "Data columns (total 16 columns):\n",
      " #   Column        Non-Null Count  Dtype         \n",
      "---  ------        --------------  -----         \n",
      " 0   EnrollDate    50000 non-null  datetime64[ns]\n",
      " 1   Species       50000 non-null  object        \n",
      " 2   Breed         50000 non-null  object        \n",
      " 3   PetAge        50000 non-null  object        \n",
      " 4   Premium       50000 non-null  float64       \n",
      " 5   Deductible    50000 non-null  int64         \n",
      " 6   EnrollPath    50000 non-null  object        \n",
      " 7   AgeYr1        50000 non-null  int64         \n",
      " 8   MixedBreed    50000 non-null  int64         \n",
      " 9   AmtClaimsYr1  27556 non-null  float64       \n",
      " 10  AmtClaimsYr2  27556 non-null  float64       \n",
      " 11  AvgClaimsYr1  27556 non-null  float64       \n",
      " 12  AvgClaimsYr2  27556 non-null  float64       \n",
      " 13  NumClaimsYr1  27556 non-null  float64       \n",
      " 14  NumClaimsYr2  27556 non-null  float64       \n",
      " 15  MaxClaim      27556 non-null  float64       \n",
      "dtypes: datetime64[ns](1), float64(8), int64(3), object(4)\n",
      "memory usage: 6.5+ MB\n"
     ]
    }
   ],
   "source": [
    "# Review merged df info\n",
    "merged_pets.info()"
   ]
  },
  {
   "cell_type": "markdown",
   "id": "0a1ac46f",
   "metadata": {},
   "source": [
    "As expected, not all policy holders have submitted claims. In fact, nearly half of the policy holders have no claims data. This is good to recognize and could factor in later as we get into building the clustering model. As a next step, let's perform some final clean up on the merged dataframe before we write it to a new csv.\n",
    "\n",
    "### 5.3 Final Cleanup\n",
    "To finalize our dataframe for the next part of our analysis, we'll perform the following:\n",
    "1. Fill missing claims values with 0\n",
    "2. Convert our NumClaims columns to int (since it's impossible to submit a fraction of a claim)\n",
    "3. Drop the EnrollDate and PetAge columns since we've already captured what we need from these in other numeric columns.\n",
    "\n",
    "#### 5.3.1 Fill missing values for claims-related columns"
   ]
  },
  {
   "cell_type": "code",
   "execution_count": 51,
   "id": "2938e856",
   "metadata": {},
   "outputs": [],
   "source": [
    "# Fill missing values\n",
    "merged_pets = merged_pets.fillna(0)\n",
    "\n",
    "assert merged_pets.isnull().values.any() == 0"
   ]
  },
  {
   "cell_type": "markdown",
   "id": "6bb579ba",
   "metadata": {},
   "source": [
    "#### 5.3.2 Convert our NumClaims columns to integer  "
   ]
  },
  {
   "cell_type": "code",
   "execution_count": 52,
   "id": "10dccaa6",
   "metadata": {},
   "outputs": [],
   "source": [
    "# Convert NumClaims cols to integer type\n",
    "merged_pets['NumClaimsYr1'] = merged_pets['NumClaimsYr1'].astype(int)\n",
    "merged_pets['NumClaimsYr2'] = merged_pets['NumClaimsYr2'].astype(int)"
   ]
  },
  {
   "cell_type": "markdown",
   "id": "420e4a2d",
   "metadata": {},
   "source": [
    "#### 5.3.3 Drop EnrollDate and PetAge columns"
   ]
  },
  {
   "cell_type": "code",
   "execution_count": 53,
   "id": "02d3e7cf",
   "metadata": {},
   "outputs": [
    {
     "name": "stdout",
     "output_type": "stream",
     "text": [
      "<class 'pandas.core.frame.DataFrame'>\n",
      "Int64Index: 50000 entries, 0 to 49999\n",
      "Data columns (total 14 columns):\n",
      " #   Column        Non-Null Count  Dtype  \n",
      "---  ------        --------------  -----  \n",
      " 0   Species       50000 non-null  object \n",
      " 1   Breed         50000 non-null  object \n",
      " 2   Premium       50000 non-null  float64\n",
      " 3   Deductible    50000 non-null  int64  \n",
      " 4   EnrollPath    50000 non-null  object \n",
      " 5   AgeYr1        50000 non-null  int64  \n",
      " 6   MixedBreed    50000 non-null  int64  \n",
      " 7   AmtClaimsYr1  50000 non-null  float64\n",
      " 8   AmtClaimsYr2  50000 non-null  float64\n",
      " 9   AvgClaimsYr1  50000 non-null  float64\n",
      " 10  AvgClaimsYr2  50000 non-null  float64\n",
      " 11  NumClaimsYr1  50000 non-null  int64  \n",
      " 12  NumClaimsYr2  50000 non-null  int64  \n",
      " 13  MaxClaim      50000 non-null  float64\n",
      "dtypes: float64(6), int64(5), object(3)\n",
      "memory usage: 5.7+ MB\n"
     ]
    }
   ],
   "source": [
    "# Drop columns\n",
    "merged_pets = merged_pets.drop(columns=['PetAge', 'EnrollDate'])\n",
    "\n",
    "# Confirm changes\n",
    "merged_pets.info()"
   ]
  },
  {
   "cell_type": "markdown",
   "id": "0dc20d13",
   "metadata": {},
   "source": [
    "#### 5.3.4 Create totals columns for claims data and round average amounts"
   ]
  },
  {
   "cell_type": "code",
   "execution_count": 54,
   "id": "25e57366",
   "metadata": {},
   "outputs": [],
   "source": [
    "# Create totals columns for amount of claims, number of claims and average claim value\n",
    "merged_pets[\"AmtClaimsTotal\"] = merged_pets[\"AmtClaimsYr1\"] + merged_pets[\"AmtClaimsYr2\"]\n",
    "merged_pets[\"NumClaimsTotal\"] = merged_pets[\"NumClaimsYr1\"] + merged_pets[\"NumClaimsYr2\"]\n",
    "merged_pets[\"AvgClaimsTotal\"] = merged_pets[\"AmtClaimsTotal\"] / merged_pets[\"NumClaimsTotal\"]\n",
    "\n",
    "# Round values in average columns\n",
    "merged_pets[\"AvgClaimsYr1\"] = round(merged_pets[\"AvgClaimsYr2\"], 2)\n",
    "merged_pets[\"AvgClaimsYr2\"] = round(merged_pets[\"AvgClaimsYr2\"], 2)\n",
    "merged_pets[\"AvgClaimsTotal\"] = round(merged_pets[\"AvgClaimsTotal\"], 2)"
   ]
  },
  {
   "cell_type": "markdown",
   "id": "81ab529b",
   "metadata": {},
   "source": [
    "#### 5.3.5 Final fill of any missing values"
   ]
  },
  {
   "cell_type": "code",
   "execution_count": 55,
   "id": "ee81ac2f",
   "metadata": {},
   "outputs": [],
   "source": [
    "# Fill missing values in new totals columns\n",
    "merged_pets = merged_pets.fillna(0)\n",
    "\n",
    "assert merged_pets.isnull().values.any() == 0"
   ]
  },
  {
   "cell_type": "markdown",
   "id": "c9ba5ff1",
   "metadata": {},
   "source": [
    "### 5.4 Final Review and Save Data File\n",
    "\n",
    "#### 5.4.1 Final review of dataframe"
   ]
  },
  {
   "cell_type": "code",
   "execution_count": 56,
   "id": "a31e4746",
   "metadata": {},
   "outputs": [
    {
     "data": {
      "text/html": [
       "<div>\n",
       "<style scoped>\n",
       "    .dataframe tbody tr th:only-of-type {\n",
       "        vertical-align: middle;\n",
       "    }\n",
       "\n",
       "    .dataframe tbody tr th {\n",
       "        vertical-align: top;\n",
       "    }\n",
       "\n",
       "    .dataframe thead th {\n",
       "        text-align: right;\n",
       "    }\n",
       "</style>\n",
       "<table border=\"1\" class=\"dataframe\">\n",
       "  <thead>\n",
       "    <tr style=\"text-align: right;\">\n",
       "      <th></th>\n",
       "      <th>Species</th>\n",
       "      <th>Breed</th>\n",
       "      <th>Premium</th>\n",
       "      <th>Deductible</th>\n",
       "      <th>EnrollPath</th>\n",
       "      <th>AgeYr1</th>\n",
       "      <th>MixedBreed</th>\n",
       "      <th>AmtClaimsYr1</th>\n",
       "      <th>AmtClaimsYr2</th>\n",
       "      <th>AvgClaimsYr1</th>\n",
       "      <th>AvgClaimsYr2</th>\n",
       "      <th>NumClaimsYr1</th>\n",
       "      <th>NumClaimsYr2</th>\n",
       "      <th>MaxClaim</th>\n",
       "      <th>AmtClaimsTotal</th>\n",
       "      <th>NumClaimsTotal</th>\n",
       "      <th>AvgClaimsTotal</th>\n",
       "    </tr>\n",
       "    <tr>\n",
       "      <th>PetId</th>\n",
       "      <th></th>\n",
       "      <th></th>\n",
       "      <th></th>\n",
       "      <th></th>\n",
       "      <th></th>\n",
       "      <th></th>\n",
       "      <th></th>\n",
       "      <th></th>\n",
       "      <th></th>\n",
       "      <th></th>\n",
       "      <th></th>\n",
       "      <th></th>\n",
       "      <th></th>\n",
       "      <th></th>\n",
       "      <th></th>\n",
       "      <th></th>\n",
       "      <th></th>\n",
       "    </tr>\n",
       "  </thead>\n",
       "  <tbody>\n",
       "    <tr>\n",
       "      <th>0</th>\n",
       "      <td>Dog</td>\n",
       "      <td>Schnauzer Standard</td>\n",
       "      <td>84.54</td>\n",
       "      <td>200</td>\n",
       "      <td>Web</td>\n",
       "      <td>3</td>\n",
       "      <td>0</td>\n",
       "      <td>0.00</td>\n",
       "      <td>1242.00</td>\n",
       "      <td>621.00</td>\n",
       "      <td>621.00</td>\n",
       "      <td>0</td>\n",
       "      <td>2</td>\n",
       "      <td>624.00</td>\n",
       "      <td>1242.00</td>\n",
       "      <td>2</td>\n",
       "      <td>621.00</td>\n",
       "    </tr>\n",
       "    <tr>\n",
       "      <th>1</th>\n",
       "      <td>Dog</td>\n",
       "      <td>Yorkiepoo</td>\n",
       "      <td>50.33</td>\n",
       "      <td>500</td>\n",
       "      <td>Phone</td>\n",
       "      <td>0</td>\n",
       "      <td>0</td>\n",
       "      <td>0.00</td>\n",
       "      <td>0.00</td>\n",
       "      <td>0.00</td>\n",
       "      <td>0.00</td>\n",
       "      <td>0</td>\n",
       "      <td>0</td>\n",
       "      <td>0.00</td>\n",
       "      <td>0.00</td>\n",
       "      <td>0</td>\n",
       "      <td>0.00</td>\n",
       "    </tr>\n",
       "    <tr>\n",
       "      <th>2</th>\n",
       "      <td>Dog</td>\n",
       "      <td>Mixed Breed Medium</td>\n",
       "      <td>74.00</td>\n",
       "      <td>500</td>\n",
       "      <td>Phone</td>\n",
       "      <td>0</td>\n",
       "      <td>1</td>\n",
       "      <td>640.63</td>\n",
       "      <td>1187.68</td>\n",
       "      <td>237.54</td>\n",
       "      <td>237.54</td>\n",
       "      <td>3</td>\n",
       "      <td>5</td>\n",
       "      <td>336.56</td>\n",
       "      <td>1828.31</td>\n",
       "      <td>8</td>\n",
       "      <td>228.54</td>\n",
       "    </tr>\n",
       "    <tr>\n",
       "      <th>3</th>\n",
       "      <td>Dog</td>\n",
       "      <td>Labrador Retriever</td>\n",
       "      <td>57.54</td>\n",
       "      <td>500</td>\n",
       "      <td>Phone</td>\n",
       "      <td>0</td>\n",
       "      <td>0</td>\n",
       "      <td>0.00</td>\n",
       "      <td>0.00</td>\n",
       "      <td>0.00</td>\n",
       "      <td>0.00</td>\n",
       "      <td>0</td>\n",
       "      <td>0</td>\n",
       "      <td>0.00</td>\n",
       "      <td>0.00</td>\n",
       "      <td>0</td>\n",
       "      <td>0.00</td>\n",
       "    </tr>\n",
       "    <tr>\n",
       "      <th>4</th>\n",
       "      <td>Dog</td>\n",
       "      <td>French Bulldog</td>\n",
       "      <td>60.69</td>\n",
       "      <td>700</td>\n",
       "      <td>Web</td>\n",
       "      <td>0</td>\n",
       "      <td>0</td>\n",
       "      <td>7212.25</td>\n",
       "      <td>168.75</td>\n",
       "      <td>168.75</td>\n",
       "      <td>168.75</td>\n",
       "      <td>9</td>\n",
       "      <td>1</td>\n",
       "      <td>3103.40</td>\n",
       "      <td>7381.00</td>\n",
       "      <td>10</td>\n",
       "      <td>738.10</td>\n",
       "    </tr>\n",
       "  </tbody>\n",
       "</table>\n",
       "</div>"
      ],
      "text/plain": [
       "      Species               Breed  Premium  Deductible EnrollPath  AgeYr1  \\\n",
       "PetId                                                                       \n",
       "0         Dog  Schnauzer Standard    84.54         200        Web       3   \n",
       "1         Dog           Yorkiepoo    50.33         500      Phone       0   \n",
       "2         Dog  Mixed Breed Medium    74.00         500      Phone       0   \n",
       "3         Dog  Labrador Retriever    57.54         500      Phone       0   \n",
       "4         Dog      French Bulldog    60.69         700        Web       0   \n",
       "\n",
       "       MixedBreed  AmtClaimsYr1  AmtClaimsYr2  AvgClaimsYr1  AvgClaimsYr2  \\\n",
       "PetId                                                                       \n",
       "0               0          0.00       1242.00        621.00        621.00   \n",
       "1               0          0.00          0.00          0.00          0.00   \n",
       "2               1        640.63       1187.68        237.54        237.54   \n",
       "3               0          0.00          0.00          0.00          0.00   \n",
       "4               0       7212.25        168.75        168.75        168.75   \n",
       "\n",
       "       NumClaimsYr1  NumClaimsYr2  MaxClaim  AmtClaimsTotal  NumClaimsTotal  \\\n",
       "PetId                                                                         \n",
       "0                 0             2    624.00         1242.00               2   \n",
       "1                 0             0      0.00            0.00               0   \n",
       "2                 3             5    336.56         1828.31               8   \n",
       "3                 0             0      0.00            0.00               0   \n",
       "4                 9             1   3103.40         7381.00              10   \n",
       "\n",
       "       AvgClaimsTotal  \n",
       "PetId                  \n",
       "0              621.00  \n",
       "1                0.00  \n",
       "2              228.54  \n",
       "3                0.00  \n",
       "4              738.10  "
      ]
     },
     "execution_count": 56,
     "metadata": {},
     "output_type": "execute_result"
    }
   ],
   "source": [
    "merged_pets.head()"
   ]
  },
  {
   "cell_type": "markdown",
   "id": "d7a55410",
   "metadata": {},
   "source": [
    "#### 5.4.2 Save final data file"
   ]
  },
  {
   "cell_type": "code",
   "execution_count": 57,
   "id": "cefd6681",
   "metadata": {},
   "outputs": [],
   "source": [
    "# Write final df to csv \n",
    "merged_pets.to_csv('../data/merged_pets.csv')"
   ]
  },
  {
   "cell_type": "markdown",
   "id": "e5dcd618",
   "metadata": {},
   "source": [
    "## 6 Summary and Next Steps\n",
    "\n",
    "### 6.1 Summary\n",
    "We started with 2 datasets - Pets data containing basic descriptive information about each pet, and Claims data, containing a history of insurance claims for each pet. Below is a summary of the steps taken as part of the data wrangling process in preparation for EDA:\n",
    "\n",
    "#### 6.1.1 Pets data:\n",
    "* `PetId` - Verified that PetIds were all unique values ranging from 0-49999\n",
    "* `EnrollDate` - Confirmed a reasonable spread of enroll dates over the period included in the dataset\n",
    "* `Species` - Observed that the data includes only two species, Cats and Dogs (with dogs greatly outnumbering cats more than 5 to 1) \n",
    "* `Breed` - Reviewed entries for Breed and made the following observations/updates:\n",
    "    * Cleaned up some of the \"Mixed Breed\" entries for dogs to remove weight ranges while retaining the size category for each\n",
    "    * Grouped Labrador Retriever breeds, removing the color designation completely\n",
    "    * Removed special characters and extra whitespace from all other breed names (cats and dogs)\n",
    "    * Added a new column to designate whether an animal is mixed breed or not\n",
    "* `PetAge` - Created a new column to capture a pet's age in years at the time of enrollment\n",
    "* `Premium` - Identified a handful of outlier premiums worthy of a more thorough review in EDA\n",
    "* `Deductible` - Verified that the distribution of deductible amounts seems reasonable\n",
    "\n",
    "#### 6.1.2 Claims data:\n",
    "* `PetId` - Removed claims data for PetIds not included in our pets dataset (ids > 49999)\n",
    "* `ClaimId` - Dropped the ClaimId column as no duplicates or missing values were discovered and it seemed to be of low value for our analysis \n",
    "* `ClaimDate` - Observed and removed claims with dates prior to a pet's enrollment or beyond the 2-year window of our analysis \n",
    "* `AmountClaimed`:\n",
    "    * Removed negative value claims and made note of outlier claims amounts for further review in EDA\n",
    "    * Created new columns to summarize claims data by PetId including number of claims in each year, average claim amount in each year and total claim amount in each year\n",
    "\n",
    "#### 6.1.3 Overall:\n",
    "* Merged the pets and claims data into a new dataframe\n",
    "* Exported the new data file in prep for EDA\n",
    "\n",
    "### 6.2 Next steps\n",
    "The following is a list of some of the next steps identified for EDA based on the analysis above.\n",
    "* Determine whether or not to keep the Breed column\n",
    "* Determine if EnrollPath is worth keeping or if there is any correlation between EnrollPath and claims amounts\n",
    "* Look for connections between things like\n",
    "    * Pet age \n",
    "    * Number/Amount of claims\n",
    "    * Species \n",
    "    * Premium\n",
    "    * Deductible"
   ]
  }
 ],
 "metadata": {
  "kernelspec": {
   "display_name": "Python 3",
   "language": "python",
   "name": "python3"
  },
  "language_info": {
   "codemirror_mode": {
    "name": "ipython",
    "version": 3
   },
   "file_extension": ".py",
   "mimetype": "text/x-python",
   "name": "python",
   "nbconvert_exporter": "python",
   "pygments_lexer": "ipython3",
   "version": "3.8.8"
  }
 },
 "nbformat": 4,
 "nbformat_minor": 5
}
