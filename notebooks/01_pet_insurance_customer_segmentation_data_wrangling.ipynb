{
 "cells": [
  {
   "cell_type": "markdown",
   "id": "84b74ea1",
   "metadata": {},
   "source": [
    "# Pet Insurance Customer Segmentation - Data Wrangling\n",
    "\n",
    "## 1 Introduction\n",
    "\n",
    "### 1.1 Background\n",
    "TBD\n",
    "\n",
    "### 1.2 Project Goal\n",
    "The goal of this project is to TBD\n",
    "\n",
    "### 1.3 Datasets\n",
    "The file PetData.csv contains enrollment and premium data for 50000 pets that enrolled in 2018. ClaimData.csv contains the dates and dollar amounts of claim submissions of pets between 2018 and 2021. Claim data for the two years following enrollment is included for the 50000 pets referenced in PetData.csv. \n",
    "\n",
    "PetData.csv contains the following columns:\n",
    "* `PetId` - a unique number that identifies enrolled pets\n",
    "* `EnrollDate` - the date of customer enrollment\n",
    "* `Species` - species of pet, dog or cat\n",
    "* `Breed` - breed of pet\n",
    "* `PetAge` - the age of the pet at enrollment \n",
    "* `Premium` - the monthly premium (in USD) of the pet’s insurance policy\n",
    "* `Deductible` - the deductible (in USD) of the pet’s insurance policy \n",
    "* `EnrollPath` - indicates whether the member enrolled via the company website or over the phone\n",
    "\n",
    "ClaimsData.csv contains the following columns:\n",
    "* `PetId` - a unique number that identifies enrolled pets\n",
    "* `ClaimId` - a unique number that identifies individual claims made by our members\n",
    "* `ClaimDate` - date of claim\n",
    "* `AmountClaimed` - amount of claim\n",
    "\n",
    "### 1.4 Questions for Data Wrangling\n",
    "1. TBD"
   ]
  },
  {
   "cell_type": "markdown",
   "id": "7592784e",
   "metadata": {},
   "source": [
    "## 2 Setup\n",
    "\n",
    "### 2.1 Imports"
   ]
  },
  {
   "cell_type": "code",
   "execution_count": 2,
   "id": "83d8bb83",
   "metadata": {},
   "outputs": [],
   "source": [
    "import pandas as pd\n",
    "import numpy as np\n",
    "import datetime\n",
    "# from fuzzywuzzy import process, fuzz\n",
    "# import re\n",
    "import matplotlib.pyplot as plt"
   ]
  },
  {
   "cell_type": "markdown",
   "id": "f099bdee",
   "metadata": {},
   "source": [
    "### 2.2 Load Data"
   ]
  },
  {
   "cell_type": "code",
   "execution_count": 3,
   "id": "b678458e",
   "metadata": {},
   "outputs": [],
   "source": [
    "# Read in the data files\n",
    "pets = pd.read_csv('../data/PetData.csv')\n",
    "claims = pd.read_csv('../data/ClaimData.csv')"
   ]
  },
  {
   "cell_type": "markdown",
   "id": "7469cd70",
   "metadata": {},
   "source": [
    "### 2.3 Preview Data"
   ]
  },
  {
   "cell_type": "code",
   "execution_count": 4,
   "id": "ae942acf",
   "metadata": {},
   "outputs": [
    {
     "data": {
      "text/html": [
       "<div>\n",
       "<style scoped>\n",
       "    .dataframe tbody tr th:only-of-type {\n",
       "        vertical-align: middle;\n",
       "    }\n",
       "\n",
       "    .dataframe tbody tr th {\n",
       "        vertical-align: top;\n",
       "    }\n",
       "\n",
       "    .dataframe thead th {\n",
       "        text-align: right;\n",
       "    }\n",
       "</style>\n",
       "<table border=\"1\" class=\"dataframe\">\n",
       "  <thead>\n",
       "    <tr style=\"text-align: right;\">\n",
       "      <th></th>\n",
       "      <th>PetId</th>\n",
       "      <th>EnrollDate</th>\n",
       "      <th>Species</th>\n",
       "      <th>Breed</th>\n",
       "      <th>PetAge</th>\n",
       "      <th>Premium</th>\n",
       "      <th>Deductible</th>\n",
       "      <th>EnrollPath</th>\n",
       "    </tr>\n",
       "  </thead>\n",
       "  <tbody>\n",
       "    <tr>\n",
       "      <th>0</th>\n",
       "      <td>0</td>\n",
       "      <td>9/18/18 17:51</td>\n",
       "      <td>Dog</td>\n",
       "      <td>Schnauzer - Standard</td>\n",
       "      <td>3 years old</td>\n",
       "      <td>84.54</td>\n",
       "      <td>200</td>\n",
       "      <td>Web</td>\n",
       "    </tr>\n",
       "    <tr>\n",
       "      <th>1</th>\n",
       "      <td>1</td>\n",
       "      <td>2/6/18 13:02</td>\n",
       "      <td>Dog</td>\n",
       "      <td>Yorkiepoo</td>\n",
       "      <td>8 weeks to 12 months old</td>\n",
       "      <td>50.33</td>\n",
       "      <td>500</td>\n",
       "      <td>Phone</td>\n",
       "    </tr>\n",
       "    <tr>\n",
       "      <th>2</th>\n",
       "      <td>2</td>\n",
       "      <td>8/22/18 11:23</td>\n",
       "      <td>Dog</td>\n",
       "      <td>Mixed breed Medium (20 - 55lbs when full grown)</td>\n",
       "      <td>8 weeks to 12 months old</td>\n",
       "      <td>74.00</td>\n",
       "      <td>500</td>\n",
       "      <td>Phone</td>\n",
       "    </tr>\n",
       "    <tr>\n",
       "      <th>3</th>\n",
       "      <td>3</td>\n",
       "      <td>12/5/18 9:13</td>\n",
       "      <td>Dog</td>\n",
       "      <td>Labrador Retriever (Black)</td>\n",
       "      <td>8 weeks to 12 months old</td>\n",
       "      <td>57.54</td>\n",
       "      <td>500</td>\n",
       "      <td>Phone</td>\n",
       "    </tr>\n",
       "    <tr>\n",
       "      <th>4</th>\n",
       "      <td>4</td>\n",
       "      <td>3/22/18 16:28</td>\n",
       "      <td>Dog</td>\n",
       "      <td>French Bulldog</td>\n",
       "      <td>8 weeks to 12 months old</td>\n",
       "      <td>60.69</td>\n",
       "      <td>700</td>\n",
       "      <td>Web</td>\n",
       "    </tr>\n",
       "  </tbody>\n",
       "</table>\n",
       "</div>"
      ],
      "text/plain": [
       "   PetId     EnrollDate Species  \\\n",
       "0      0  9/18/18 17:51     Dog   \n",
       "1      1   2/6/18 13:02     Dog   \n",
       "2      2  8/22/18 11:23     Dog   \n",
       "3      3   12/5/18 9:13     Dog   \n",
       "4      4  3/22/18 16:28     Dog   \n",
       "\n",
       "                                             Breed                    PetAge  \\\n",
       "0                             Schnauzer - Standard               3 years old   \n",
       "1                                        Yorkiepoo  8 weeks to 12 months old   \n",
       "2  Mixed breed Medium (20 - 55lbs when full grown)  8 weeks to 12 months old   \n",
       "3                       Labrador Retriever (Black)  8 weeks to 12 months old   \n",
       "4                                   French Bulldog  8 weeks to 12 months old   \n",
       "\n",
       "   Premium  Deductible EnrollPath  \n",
       "0    84.54         200        Web  \n",
       "1    50.33         500      Phone  \n",
       "2    74.00         500      Phone  \n",
       "3    57.54         500      Phone  \n",
       "4    60.69         700        Web  "
      ]
     },
     "execution_count": 4,
     "metadata": {},
     "output_type": "execute_result"
    }
   ],
   "source": [
    "# Preview pets data\n",
    "pets.head()"
   ]
  },
  {
   "cell_type": "code",
   "execution_count": 5,
   "id": "2b2cf0b2",
   "metadata": {},
   "outputs": [
    {
     "data": {
      "text/html": [
       "<div>\n",
       "<style scoped>\n",
       "    .dataframe tbody tr th:only-of-type {\n",
       "        vertical-align: middle;\n",
       "    }\n",
       "\n",
       "    .dataframe tbody tr th {\n",
       "        vertical-align: top;\n",
       "    }\n",
       "\n",
       "    .dataframe thead th {\n",
       "        text-align: right;\n",
       "    }\n",
       "</style>\n",
       "<table border=\"1\" class=\"dataframe\">\n",
       "  <thead>\n",
       "    <tr style=\"text-align: right;\">\n",
       "      <th></th>\n",
       "      <th>PetId</th>\n",
       "      <th>ClaimId</th>\n",
       "      <th>ClaimDate</th>\n",
       "      <th>AmountClaimed</th>\n",
       "    </tr>\n",
       "  </thead>\n",
       "  <tbody>\n",
       "    <tr>\n",
       "      <th>0</th>\n",
       "      <td>0</td>\n",
       "      <td>0</td>\n",
       "      <td>3/7/20 12:17</td>\n",
       "      <td>624.00</td>\n",
       "    </tr>\n",
       "    <tr>\n",
       "      <th>1</th>\n",
       "      <td>0</td>\n",
       "      <td>1</td>\n",
       "      <td>3/7/20 8:03</td>\n",
       "      <td>618.00</td>\n",
       "    </tr>\n",
       "    <tr>\n",
       "      <th>2</th>\n",
       "      <td>2</td>\n",
       "      <td>2</td>\n",
       "      <td>2/8/20 0:18</td>\n",
       "      <td>199.52</td>\n",
       "    </tr>\n",
       "    <tr>\n",
       "      <th>3</th>\n",
       "      <td>2</td>\n",
       "      <td>3</td>\n",
       "      <td>9/21/18 14:34</td>\n",
       "      <td>199.60</td>\n",
       "    </tr>\n",
       "    <tr>\n",
       "      <th>4</th>\n",
       "      <td>2</td>\n",
       "      <td>4</td>\n",
       "      <td>10/23/18 1:40</td>\n",
       "      <td>162.40</td>\n",
       "    </tr>\n",
       "  </tbody>\n",
       "</table>\n",
       "</div>"
      ],
      "text/plain": [
       "   PetId  ClaimId      ClaimDate  AmountClaimed\n",
       "0      0        0   3/7/20 12:17         624.00\n",
       "1      0        1    3/7/20 8:03         618.00\n",
       "2      2        2    2/8/20 0:18         199.52\n",
       "3      2        3  9/21/18 14:34         199.60\n",
       "4      2        4  10/23/18 1:40         162.40"
      ]
     },
     "execution_count": 5,
     "metadata": {},
     "output_type": "execute_result"
    }
   ],
   "source": [
    "# Preview claims data\n",
    "claims.head()"
   ]
  },
  {
   "cell_type": "markdown",
   "id": "43bc61e3",
   "metadata": {},
   "source": [
    "### 2.4 Initial Exploration"
   ]
  },
  {
   "cell_type": "code",
   "execution_count": 6,
   "id": "f09663fc",
   "metadata": {},
   "outputs": [
    {
     "name": "stdout",
     "output_type": "stream",
     "text": [
      "<class 'pandas.core.frame.DataFrame'>\n",
      "RangeIndex: 50000 entries, 0 to 49999\n",
      "Data columns (total 8 columns):\n",
      " #   Column      Non-Null Count  Dtype  \n",
      "---  ------      --------------  -----  \n",
      " 0   PetId       50000 non-null  int64  \n",
      " 1   EnrollDate  50000 non-null  object \n",
      " 2   Species     50000 non-null  object \n",
      " 3   Breed       50000 non-null  object \n",
      " 4   PetAge      50000 non-null  object \n",
      " 5   Premium     50000 non-null  float64\n",
      " 6   Deductible  50000 non-null  int64  \n",
      " 7   EnrollPath  50000 non-null  object \n",
      "dtypes: float64(1), int64(2), object(5)\n",
      "memory usage: 3.1+ MB\n",
      "None\n",
      "\n",
      "\n",
      "<class 'pandas.core.frame.DataFrame'>\n",
      "RangeIndex: 210235 entries, 0 to 210234\n",
      "Data columns (total 4 columns):\n",
      " #   Column         Non-Null Count   Dtype  \n",
      "---  ------         --------------   -----  \n",
      " 0   PetId          210235 non-null  int64  \n",
      " 1   ClaimId        210235 non-null  int64  \n",
      " 2   ClaimDate      210235 non-null  object \n",
      " 3   AmountClaimed  210235 non-null  float64\n",
      "dtypes: float64(1), int64(2), object(1)\n",
      "memory usage: 6.4+ MB\n",
      "None\n"
     ]
    }
   ],
   "source": [
    "# Check column data types and for null values\n",
    "print(pets.info())\n",
    "print('\\n')\n",
    "print(claims.info())"
   ]
  },
  {
   "cell_type": "code",
   "execution_count": 7,
   "id": "59e6c0c0",
   "metadata": {},
   "outputs": [
    {
     "name": "stdout",
     "output_type": "stream",
     "text": [
      "Count of unique values in each column in pets df :\n",
      "PetId         50000\n",
      "EnrollDate    43883\n",
      "Species           2\n",
      "Breed           377\n",
      "PetAge           15\n",
      "Premium       11862\n",
      "Deductible      189\n",
      "EnrollPath        3\n",
      "dtype: int64\n",
      "\n",
      "\n",
      "Count of unique values in each column in claims df :\n",
      "PetId             33882\n",
      "ClaimId          210235\n",
      "ClaimDate        188025\n",
      "AmountClaimed     75193\n",
      "dtype: int64\n"
     ]
    }
   ],
   "source": [
    "# Check for count of unique values in each column in the dfs\n",
    "print('Count of unique values in each column in pets df :')\n",
    "print(pets.nunique())\n",
    "print('\\n')\n",
    "print('Count of unique values in each column in claims df :')\n",
    "print(claims.nunique())"
   ]
  },
  {
   "cell_type": "markdown",
   "id": "02b5d702",
   "metadata": {},
   "source": [
    "### 2.5 Initial Assessment\n",
    "Based on the above, there are no missing values in the data. In terms of data types, there are a handful of non-numeric columns that we'll need to figure out how to handle as we work toward building our predictive model.\n",
    "\n",
    "As a next step, let's review each column in more detail to get a better understanding of the data quality identify columns that will need additional handling. We'll start with the pets data and then move on to the claims data.\n",
    "\n",
    "## 3 Review Data by Column\n",
    "\n",
    "### 3. 1 Pets Data\n",
    "Based on the column dtypes and initial exploration, below is a list of next steps by column for our pets data.\n",
    "\n",
    "* `PetId` - Review range of IDs to ensure values are unique and confirm range\n",
    "* `EnrollDate` - Convert to datetime object and review distribution\n",
    "* `Species` - Review unique values and counts\n",
    "* `Breed` - Review unique values and counts \n",
    "* `PetAge` - Review unique values and counts, create new column for age in years\n",
    "* `Premium` - Review range of values and distribution\n",
    "* `Deductible` - Review range of values and distribution\n",
    "* `EnrollPath` - Review unique values and counts\n",
    "\n",
    "#### 3.1.1 PetId"
   ]
  },
  {
   "cell_type": "code",
   "execution_count": 8,
   "id": "0d6b11c7",
   "metadata": {},
   "outputs": [
    {
     "name": "stdout",
     "output_type": "stream",
     "text": [
      "Min value: 0\n",
      "Max value: 49999\n",
      "Number of unique values: 50000\n"
     ]
    }
   ],
   "source": [
    "# Check value ranges for PetId column\n",
    "print(\"Min value: \" + str(pets.PetId.min()))\n",
    "print(\"Max value: \" + str(pets.PetId.max()))\n",
    "print(\"Number of unique values: \" + str(pets.PetId.nunique()))"
   ]
  },
  {
   "cell_type": "markdown",
   "id": "537faaf6",
   "metadata": {},
   "source": [
    "**Result:** PetId values cover a range from 0 to 49999 with no duplicates."
   ]
  },
  {
   "cell_type": "code",
   "execution_count": null,
   "id": "4f42d101",
   "metadata": {},
   "outputs": [],
   "source": []
  }
 ],
 "metadata": {
  "kernelspec": {
   "display_name": "Python 3",
   "language": "python",
   "name": "python3"
  },
  "language_info": {
   "codemirror_mode": {
    "name": "ipython",
    "version": 3
   },
   "file_extension": ".py",
   "mimetype": "text/x-python",
   "name": "python",
   "nbconvert_exporter": "python",
   "pygments_lexer": "ipython3",
   "version": "3.8.8"
  }
 },
 "nbformat": 4,
 "nbformat_minor": 5
}
