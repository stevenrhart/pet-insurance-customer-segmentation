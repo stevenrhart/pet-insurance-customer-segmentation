{
 "cells": [
  {
   "cell_type": "markdown",
   "metadata": {},
   "source": [
    "# Pet Insurance Customer Segmentation - EDA\n",
    "\n",
    "## 1 Introduction\n",
    "\n",
    "### 1.1 Background\n",
    "The Marketing department at a leading pet insurance provider is seeking to better understand its customer base to prevent customer loss and drive additional company revenue. Data suggests that customers are most likely to cancel their policies around the 2-year point following enrollment.   \n",
    "\n",
    "### 1.2 Project Goal\n",
    "The goal of this project is to identify 3-4 customer segments (with come justification for each) that will enable the Marketing team reduce customer shrinkage while improving outcomes related to targeted ads and/or direct-to-customer campaigns. \n",
    "\n",
    "Initial data suggests some key features that may be helpful for clustering include:\n",
    "* Pet species (cat or dog)\n",
    "* Amount of claims (in year 1, in year 2 and total)\n",
    "* Number of claims (in year 1, in year 2 and total)\n",
    "* Highest claim amount\n",
    "* Pet age\n",
    "\n",
    "### 1.3 Data for EDA\n",
    "During data wrangling, the PetData.csv and ClaimData.csv files were reviewed, cleaned and merged into a single dataset, merged_pets.csv.\n",
    "\n",
    "### 1.4 Questions for EDA\n",
    "The following is a list of some of the initial next steps identified for EDA based on the analysis completed during data wrangling.\n",
    "* What relationships exist between some of the key features mentioned by the marketing team?\n",
    "* Are there other features that look to be important in terms of clustering the customer base?\n",
    "* Is there a good reason to keep the Breed and EnrollPath columns?\n"
   ]
  },
  {
   "cell_type": "markdown",
   "metadata": {},
   "source": [
    "## 2 Setup\n",
    "\n",
    "### 2.1 Imports"
   ]
  },
  {
   "cell_type": "code",
   "execution_count": 1,
   "metadata": {},
   "outputs": [],
   "source": [
    "import pandas as pd\n",
    "import numpy as np\n",
    "\n",
    "import matplotlib.pyplot as plt\n",
    "import seaborn as sns"
   ]
  },
  {
   "cell_type": "markdown",
   "metadata": {},
   "source": [
    "### 2.2 Data Load & Preview"
   ]
  },
  {
   "cell_type": "code",
   "execution_count": 2,
   "metadata": {},
   "outputs": [
    {
     "data": {
      "text/html": [
       "<div>\n",
       "<style scoped>\n",
       "    .dataframe tbody tr th:only-of-type {\n",
       "        vertical-align: middle;\n",
       "    }\n",
       "\n",
       "    .dataframe tbody tr th {\n",
       "        vertical-align: top;\n",
       "    }\n",
       "\n",
       "    .dataframe thead th {\n",
       "        text-align: right;\n",
       "    }\n",
       "</style>\n",
       "<table border=\"1\" class=\"dataframe\">\n",
       "  <thead>\n",
       "    <tr style=\"text-align: right;\">\n",
       "      <th></th>\n",
       "      <th>0</th>\n",
       "      <th>1</th>\n",
       "      <th>2</th>\n",
       "      <th>3</th>\n",
       "      <th>4</th>\n",
       "      <th>5</th>\n",
       "      <th>6</th>\n",
       "    </tr>\n",
       "  </thead>\n",
       "  <tbody>\n",
       "    <tr>\n",
       "      <th>PetId</th>\n",
       "      <td>0</td>\n",
       "      <td>1</td>\n",
       "      <td>2</td>\n",
       "      <td>3</td>\n",
       "      <td>4</td>\n",
       "      <td>5</td>\n",
       "      <td>6</td>\n",
       "    </tr>\n",
       "    <tr>\n",
       "      <th>Species</th>\n",
       "      <td>Dog</td>\n",
       "      <td>Dog</td>\n",
       "      <td>Dog</td>\n",
       "      <td>Dog</td>\n",
       "      <td>Dog</td>\n",
       "      <td>Dog</td>\n",
       "      <td>Cat</td>\n",
       "    </tr>\n",
       "    <tr>\n",
       "      <th>Breed</th>\n",
       "      <td>Schnauzer Standard</td>\n",
       "      <td>Yorkiepoo</td>\n",
       "      <td>Mixed Breed Medium</td>\n",
       "      <td>Labrador Retriever</td>\n",
       "      <td>French Bulldog</td>\n",
       "      <td>Shih Tzu</td>\n",
       "      <td>American Shorthair</td>\n",
       "    </tr>\n",
       "    <tr>\n",
       "      <th>Premium</th>\n",
       "      <td>84.54</td>\n",
       "      <td>50.33</td>\n",
       "      <td>74.0</td>\n",
       "      <td>57.54</td>\n",
       "      <td>60.69</td>\n",
       "      <td>43.53</td>\n",
       "      <td>47.4</td>\n",
       "    </tr>\n",
       "    <tr>\n",
       "      <th>Deductible</th>\n",
       "      <td>200</td>\n",
       "      <td>500</td>\n",
       "      <td>500</td>\n",
       "      <td>500</td>\n",
       "      <td>700</td>\n",
       "      <td>700</td>\n",
       "      <td>250</td>\n",
       "    </tr>\n",
       "    <tr>\n",
       "      <th>EnrollPath</th>\n",
       "      <td>Web</td>\n",
       "      <td>Phone</td>\n",
       "      <td>Phone</td>\n",
       "      <td>Phone</td>\n",
       "      <td>Web</td>\n",
       "      <td>Phone</td>\n",
       "      <td>Web</td>\n",
       "    </tr>\n",
       "    <tr>\n",
       "      <th>AgeYr1</th>\n",
       "      <td>3</td>\n",
       "      <td>0</td>\n",
       "      <td>0</td>\n",
       "      <td>0</td>\n",
       "      <td>0</td>\n",
       "      <td>2</td>\n",
       "      <td>0</td>\n",
       "    </tr>\n",
       "    <tr>\n",
       "      <th>MixedBreed</th>\n",
       "      <td>0</td>\n",
       "      <td>0</td>\n",
       "      <td>1</td>\n",
       "      <td>0</td>\n",
       "      <td>0</td>\n",
       "      <td>0</td>\n",
       "      <td>0</td>\n",
       "    </tr>\n",
       "    <tr>\n",
       "      <th>AmtClaimsYr1</th>\n",
       "      <td>0.0</td>\n",
       "      <td>0.0</td>\n",
       "      <td>640.63</td>\n",
       "      <td>0.0</td>\n",
       "      <td>7212.25</td>\n",
       "      <td>2665.67</td>\n",
       "      <td>0.0</td>\n",
       "    </tr>\n",
       "    <tr>\n",
       "      <th>AmtClaimsYr2</th>\n",
       "      <td>1242.0</td>\n",
       "      <td>0.0</td>\n",
       "      <td>1187.68</td>\n",
       "      <td>0.0</td>\n",
       "      <td>168.75</td>\n",
       "      <td>0.0</td>\n",
       "      <td>811.38</td>\n",
       "    </tr>\n",
       "    <tr>\n",
       "      <th>AvgClaimsYr1</th>\n",
       "      <td>0.0</td>\n",
       "      <td>0.0</td>\n",
       "      <td>213.543333</td>\n",
       "      <td>0.0</td>\n",
       "      <td>801.361111</td>\n",
       "      <td>296.185556</td>\n",
       "      <td>0.0</td>\n",
       "    </tr>\n",
       "    <tr>\n",
       "      <th>AvgClaimsYr2</th>\n",
       "      <td>621.0</td>\n",
       "      <td>0.0</td>\n",
       "      <td>237.536</td>\n",
       "      <td>0.0</td>\n",
       "      <td>168.75</td>\n",
       "      <td>0.0</td>\n",
       "      <td>811.38</td>\n",
       "    </tr>\n",
       "    <tr>\n",
       "      <th>NumClaimsYr1</th>\n",
       "      <td>0</td>\n",
       "      <td>0</td>\n",
       "      <td>3</td>\n",
       "      <td>0</td>\n",
       "      <td>9</td>\n",
       "      <td>9</td>\n",
       "      <td>0</td>\n",
       "    </tr>\n",
       "    <tr>\n",
       "      <th>NumClaimsYr2</th>\n",
       "      <td>2</td>\n",
       "      <td>0</td>\n",
       "      <td>5</td>\n",
       "      <td>0</td>\n",
       "      <td>1</td>\n",
       "      <td>0</td>\n",
       "      <td>1</td>\n",
       "    </tr>\n",
       "    <tr>\n",
       "      <th>HighestClaim</th>\n",
       "      <td>624.0</td>\n",
       "      <td>0.0</td>\n",
       "      <td>336.56</td>\n",
       "      <td>0.0</td>\n",
       "      <td>3103.4</td>\n",
       "      <td>960.18</td>\n",
       "      <td>811.38</td>\n",
       "    </tr>\n",
       "    <tr>\n",
       "      <th>AmtClaimsTotal</th>\n",
       "      <td>1242.0</td>\n",
       "      <td>0.0</td>\n",
       "      <td>1828.31</td>\n",
       "      <td>0.0</td>\n",
       "      <td>7381.0</td>\n",
       "      <td>2665.67</td>\n",
       "      <td>811.38</td>\n",
       "    </tr>\n",
       "    <tr>\n",
       "      <th>NumClaimsTotal</th>\n",
       "      <td>2</td>\n",
       "      <td>0</td>\n",
       "      <td>8</td>\n",
       "      <td>0</td>\n",
       "      <td>10</td>\n",
       "      <td>9</td>\n",
       "      <td>1</td>\n",
       "    </tr>\n",
       "    <tr>\n",
       "      <th>AvgClaimsTotal</th>\n",
       "      <td>621.0</td>\n",
       "      <td>0.0</td>\n",
       "      <td>228.54</td>\n",
       "      <td>0.0</td>\n",
       "      <td>738.1</td>\n",
       "      <td>296.19</td>\n",
       "      <td>811.38</td>\n",
       "    </tr>\n",
       "  </tbody>\n",
       "</table>\n",
       "</div>"
      ],
      "text/plain": [
       "                                 0          1                   2  \\\n",
       "PetId                            0          1                   2   \n",
       "Species                        Dog        Dog                 Dog   \n",
       "Breed           Schnauzer Standard  Yorkiepoo  Mixed Breed Medium   \n",
       "Premium                      84.54      50.33                74.0   \n",
       "Deductible                     200        500                 500   \n",
       "EnrollPath                     Web      Phone               Phone   \n",
       "AgeYr1                           3          0                   0   \n",
       "MixedBreed                       0          0                   1   \n",
       "AmtClaimsYr1                   0.0        0.0              640.63   \n",
       "AmtClaimsYr2                1242.0        0.0             1187.68   \n",
       "AvgClaimsYr1                   0.0        0.0          213.543333   \n",
       "AvgClaimsYr2                 621.0        0.0             237.536   \n",
       "NumClaimsYr1                     0          0                   3   \n",
       "NumClaimsYr2                     2          0                   5   \n",
       "HighestClaim                 624.0        0.0              336.56   \n",
       "AmtClaimsTotal              1242.0        0.0             1828.31   \n",
       "NumClaimsTotal                   2          0                   8   \n",
       "AvgClaimsTotal               621.0        0.0              228.54   \n",
       "\n",
       "                                 3               4           5  \\\n",
       "PetId                            3               4           5   \n",
       "Species                        Dog             Dog         Dog   \n",
       "Breed           Labrador Retriever  French Bulldog    Shih Tzu   \n",
       "Premium                      57.54           60.69       43.53   \n",
       "Deductible                     500             700         700   \n",
       "EnrollPath                   Phone             Web       Phone   \n",
       "AgeYr1                           0               0           2   \n",
       "MixedBreed                       0               0           0   \n",
       "AmtClaimsYr1                   0.0         7212.25     2665.67   \n",
       "AmtClaimsYr2                   0.0          168.75         0.0   \n",
       "AvgClaimsYr1                   0.0      801.361111  296.185556   \n",
       "AvgClaimsYr2                   0.0          168.75         0.0   \n",
       "NumClaimsYr1                     0               9           9   \n",
       "NumClaimsYr2                     0               1           0   \n",
       "HighestClaim                   0.0          3103.4      960.18   \n",
       "AmtClaimsTotal                 0.0          7381.0     2665.67   \n",
       "NumClaimsTotal                   0              10           9   \n",
       "AvgClaimsTotal                 0.0           738.1      296.19   \n",
       "\n",
       "                                 6  \n",
       "PetId                            6  \n",
       "Species                        Cat  \n",
       "Breed           American Shorthair  \n",
       "Premium                       47.4  \n",
       "Deductible                     250  \n",
       "EnrollPath                     Web  \n",
       "AgeYr1                           0  \n",
       "MixedBreed                       0  \n",
       "AmtClaimsYr1                   0.0  \n",
       "AmtClaimsYr2                811.38  \n",
       "AvgClaimsYr1                   0.0  \n",
       "AvgClaimsYr2                811.38  \n",
       "NumClaimsYr1                     0  \n",
       "NumClaimsYr2                     1  \n",
       "HighestClaim                811.38  \n",
       "AmtClaimsTotal              811.38  \n",
       "NumClaimsTotal                   1  \n",
       "AvgClaimsTotal              811.38  "
      ]
     },
     "execution_count": 2,
     "metadata": {},
     "output_type": "execute_result"
    }
   ],
   "source": [
    "# Read in the data file generated during data wrangling\n",
    "pets = pd.read_csv('../data/merged_pets.csv')\n",
    "\n",
    "# Preview\n",
    "pets.head(7).T"
   ]
  },
  {
   "cell_type": "code",
   "execution_count": null,
   "metadata": {},
   "outputs": [],
   "source": [
    "pets.shape"
   ]
  },
  {
   "cell_type": "markdown",
   "metadata": {},
   "source": [
    "### 2.3 Data Wrangling Summary \n",
    "Before we get started on the analysis, let's take a moment to recap what we've learned so far and what the data looks like.\n",
    "\n",
    "#### 2.3.1 What do we know? \n",
    "* **Shape** - Our clean dataframe is 50000 rows with each row corresponding to a single pet.\n",
    "* **Basic Info** - For each pet, we have some basic info including species, breed, age at time of enrollment and enroll path.\n",
    "* **Policy Info** - We also have policy-level info for each pet including the monthly premium and deductible amount for claims.\n",
    "* **Claims Data** - We also have claims data for each pet covering the first two policy years including:\n",
    "    * Number of claims per year and total (years 1 and 2 combined)\n",
    "    * Average claim amount per year and total (years 1 and 2 combined) \n",
    "    * Amount of claims per year and total (years 1 and 2 combined)\n",
    "\n",
    "#### 2.3.2 Initial Observations\n",
    "* **Species** - We have two species of pets, Cats and Dogs\n",
    "* **Breed** - We have 373 unique breeds in total (55 cat and 318 dog)\n",
    "* **Age** - The age range is between 0 (i.e., < 1 year) and 13\n",
    "* **Premium** - Premiums fall into a wide range with a few outlier values close to \\\\$1000\n",
    "* **Deductible** - Deductibles are fairly well distributed and appear to be stratified across a range of common values.\n",
    "* **Claims** \n",
    "    * For cats and dogs, the median value for total number and total amount of claims is 0.\n",
    "    * On the flip side, both species have some significant outliers in both categories (number and amount of claims)\n",
    "    \n",
    "Now that we have a bit more context, let's jump in to the analysis."
   ]
  },
  {
   "cell_type": "markdown",
   "metadata": {},
   "source": [
    "## 3 Data Analysis\n",
    "As we work through data analysis, let's try to answer the following questions about the data to get a better feel for any existing relationships.\n",
    "\n",
    "* What is the count of pets per species?\n",
    "* How do species compare in terms of premiums, deductibles and claims data?\n",
    "* Are Breed and EnrollPath worth keeping or should they be dropped?\n",
    "* How does age factor in to number or amount of claims?\n",
    "* Do mixed breed pets tend to have lower or higher claims totals?\n",
    "\n",
    "### 3.1 What is the count of pets per species?"
   ]
  },
  {
   "cell_type": "code",
   "execution_count": null,
   "metadata": {},
   "outputs": [],
   "source": [
    "pets.Species.value_counts()"
   ]
  },
  {
   "cell_type": "markdown",
   "metadata": {},
   "source": [
    "As observed in data wrangling, we have approximately 50,000 pets in our data, roughly 85% of which are dogs. The remaining 15% are cats, so that keeps things fairly simple as we only have two breeds to compare. "
   ]
  },
  {
   "cell_type": "markdown",
   "metadata": {},
   "source": [
    "### 3.2 How do species compare in terms of premiums, deductibles and claims data??\n",
    "Based on what we observed in data wrangling, we know there are some very significant outliers in terms of number of claims and claims amount that will affect the interpretability of our plots. Let's filter down to a smaller range and take a look at the species data across a number of different dimensions."
   ]
  },
  {
   "cell_type": "code",
   "execution_count": null,
   "metadata": {},
   "outputs": [],
   "source": [
    "# Filter down to key set of columns for species comparison\n",
    "pets_filtered = pets[['Species', 'Premium', 'Deductible', 'AmtClaimsTotal',\n",
    "                      'AvgClaimsTotal', 'NumClaimsTotal']]\n",
    "\n",
    "# Filter out outliers for number of claims and claim amounts\n",
    "claim_filter = pets_filtered[(pets_filtered.AmtClaimsTotal < 10000) & (pets_filtered.AmtClaimsTotal > 100) &\n",
    "                 (pets_filtered.NumClaimsTotal < 30) & (pets_filtered.NumClaimsTotal > 0)]\n",
    "\n",
    "# Create the plot\n",
    "sns.set_theme(style=\"ticks\")\n",
    "sns.pairplot(pets_filtered, hue=\"Species\")\n",
    "\n",
    "# Add title, legend and show\n",
    "plt.title(\"TBD Title\", y=1.07, fontsize=16)\n",
    "plt.suptitle(\"(Excludes pets with claims over $10,000 or with > 30 claims)\", y=0.8, x=0.513, fontsize=12)\n",
    "\n",
    "plt.savefig('../figures/species_comparison.png')\n",
    "plt.show()"
   ]
  },
  {
   "cell_type": "code",
   "execution_count": null,
   "metadata": {},
   "outputs": [],
   "source": [
    "# # Filter out outliers for number of claims and claim amounts\n",
    "# claim_filter = pets[(pets.AmtClaimsTotal < 10000) & (pets.AmtClaimsTotal > 100) &\n",
    "#                  (pets.NumClaimsTotal < 30) & (pets.NumClaimsTotal > 0)]\n",
    "\n",
    "# # Create a histogram showing total claims by species\n",
    "# fig, ax = plt.subplots(1, 1, figsize=(12, 6))\n",
    "# sns.histplot(x=\"AmtClaimsTotal\", data=claim_filter, hue='Species', alpha=0.2,\n",
    "#              element='step', kde=True, bins=50)\n",
    "\n",
    "# # Plot titles, labels, legend and display\n",
    "# plt.title(\"Distribution of Total Claims per Pet by Species\", y=1.07, fontsize=16)\n",
    "# plt.suptitle(\"(Excludes pets with claims over $10,000 or with > 30 claims)\", y=0.92, x=0.513, fontsize=12)\n",
    "# plt.xlabel(\"Total Claims, USD\", fontsize=14)\n",
    "# plt.ylabel(\"Count\", fontsize=14)\n",
    "# plt.legend(labels=(['Cats', 'Dogs']), loc='upper right')\n",
    "# plt.savefig('../figures/Total-Claims-by-Species.png')\n",
    "# plt.show()"
   ]
  },
  {
   "cell_type": "markdown",
   "metadata": {},
   "source": [
    "The distributions for claims amounts per pet look somewhat similar, both spike on the low end and have long tails to the right. It does appear that the distribution for dogs is shifted somewhat further to the right overall but difficult to tell in this view.\n",
    "\n",
    "Let's see if the number of claims is any different."
   ]
  },
  {
   "cell_type": "code",
   "execution_count": null,
   "metadata": {},
   "outputs": [],
   "source": [
    "# # Create a histogram showing number of claims per pet by species\n",
    "# fig, ax = plt.subplots(1, 1, figsize=(12, 6))\n",
    "# sns.histplot(x=\"NumClaimsTotal\", data=claim_filter, hue='Species', alpha=0.2,\n",
    "#              element='bars', bins=30, discrete=True)\n",
    "\n",
    "# # Plot legend and display\n",
    "# plt.title(\"Distribution of Number of Claims per Pet by Species\", y=1.05, fontsize=16)\n",
    "# plt.suptitle(\"(Excludes pets with claims over $10,000 or with > 30 claims)\", y=0.92, x=0.513, fontsize=12)\n",
    "# plt.xlabel(\"Number of Claims\", fontsize=14)\n",
    "# plt.ylabel(\"Count\", fontsize=14)\n",
    "# plt.legend(labels=(['Cats', 'Dogs']), loc='upper right')\n",
    "# plt.show()"
   ]
  },
  {
   "cell_type": "markdown",
   "metadata": {},
   "source": [
    "Again, there doesn't seem to be an obvious story in the plot above and it's hard to see much difference in species when it comes to claims. Let's look at a scatterplot of the data to see if that shows anything interesting."
   ]
  },
  {
   "cell_type": "code",
   "execution_count": null,
   "metadata": {},
   "outputs": [],
   "source": [
    "# Create a scatterplot showing Number of Claims vs Amount of Claims per pet by species\n",
    "fig, ax = plt.subplots(1, 1, figsize=(12, 6))\n",
    "sns.scatterplot(x=\"AmtClaimsTotal\", y=\"NumClaimsTotal\", data=claim_filter, hue=\"Species\", alpha=0.5)\n",
    "\n",
    "# Plot legend, add title, and display\n",
    "plt.title(\"Total Number of Claims vs. Total Amount of Claims per Pet, by Species\", y=1.05, fontsize=16)\n",
    "plt.suptitle(\"(Excludes pets with claims over $10,000 or with > 30 claims)\", y=0.92, x=0.513, fontsize=12)\n",
    "plt.xlabel(\"Total Claims Amount, USD\", fontsize=14)\n",
    "plt.ylabel(\"Total Number of Claims\", fontsize=14)\n",
    "plt.legend(loc='upper left')\n",
    "plt.show()"
   ]
  },
  {
   "cell_type": "markdown",
   "metadata": {},
   "source": [
    "The scatterplot is still inconclusive when grouping the species together. Let's try separating Cats and Dogs and adding a regression line to the data as a next step."
   ]
  },
  {
   "cell_type": "code",
   "execution_count": null,
   "metadata": {},
   "outputs": [],
   "source": [
    "# Create regplots showing number of claims vs total claims amount by species\n",
    "fig, (ax1, ax2) = plt.subplots(1, 2, figsize=(16, 6))\n",
    "sns.regplot(x=\"AmtClaimsTotal\", y=\"NumClaimsTotal\", data=claim_filter[claim_filter.Species == 'Cat'],  \n",
    "                ax=ax1, color=\"Orange\"\n",
    "                ).set(title=\"Cats - Total Number of Claims vs. Total Claims per Pet\",\n",
    "                     xlabel=\"Total Claims Amount, USD\", ylabel=\"Total Number of Claims\")\n",
    "sns.regplot(x=\"AmtClaimsTotal\", y=\"NumClaimsTotal\", data=claim_filter[claim_filter.Species == 'Dog'],  \n",
    "                ax=ax2).set(title=\"Dogs - Total Number of Claims vs. Total Claims per Pet\", \n",
    "                            xlabel=\"Total Claims Amount, USD\", ylabel=\"Total Number of Claims\")\n",
    "\n",
    "plt.show()"
   ]
  },
  {
   "cell_type": "markdown",
   "metadata": {},
   "source": [
    "Interesting! We still don't see much difference in species when it comes to total amount of claims or total number of claims per pet. Based on this alone, we could make a case that dropping species from the data makes sense. But before we take such a drastic step, let's complete analysis on some of the other features. \n",
    "\n",
    "**Conclusion**\n",
    "\n",
    "* Dogs may have slightly higher total claims than cats, but the patterns between species are strikingly similar\n",
    "* Initial observations are that species isn't much of a factor in predicting claims amounts"
   ]
  },
  {
   "cell_type": "markdown",
   "metadata": {},
   "source": [
    "### 3.3 Do dogs cost more to insure?\n",
    "\n",
    "So our initial hypothesis - that dogs have higher claims amounts or more claims than cats - does not appear to be the case (at least not in a significant way). Based on this, we would expect to see similar premiums and deductibles across our species, but can we see that in the data?\n",
    "\n",
    "In data wrangling, we observed some pets with very high premiums that will undoubtedly skew our analysis. Let's start by filtering down to a smaller range and then take a look at our distributions."
   ]
  },
  {
   "cell_type": "code",
   "execution_count": null,
   "metadata": {},
   "outputs": [],
   "source": [
    "# Filter out the outlier premiums\n",
    "prem_filter = df[df.Premium < 250][['Premium', 'Deductible', 'Species', 'AgeYr1']]\n",
    "dog_mean = prem_filter[prem_filter.Species == 'Dog']['Premium'].mean()\n",
    "cat_mean = prem_filter[prem_filter.Species == 'Cat']['Premium'].mean()\n",
    "\n",
    "# Create a histogram showing premium amounts by species\n",
    "fig, ax = plt.subplots(1, 1, figsize=(12, 6))\n",
    "sns.histplot(x=\"Premium\", data=prem_filter, hue=\"Species\", alpha=0.2,\n",
    "             element='step', bins=50, kde=True)\n",
    "\n",
    "# Plot mean premium amount for dogs and cats\n",
    "plt.axvline(cat_mean, color='darkorange', linestyle='dashed', linewidth=1)\n",
    "min_ylim, max_ylim = plt.ylim()\n",
    "plt.text(cat_mean*1.77, max_ylim*0.7, 'Cat Mean: ${:.2f}'.format(cat_mean))\n",
    "ax.annotate(\"\", xy=(45, 1200), xytext=(85, 2490), arrowprops=dict(arrowstyle=\"->\"))\n",
    "\n",
    "plt.axvline(dog_mean, color='darkblue', linestyle='dashed', linewidth=1)\n",
    "min_ylim, max_ylim = plt.ylim()\n",
    "plt.text(dog_mean*1.05, max_ylim*0.95, 'Dog Mean: ${:.2f}'.format(dog_mean))\n",
    "ax.annotate(\"\", xy=(68, 3000), xytext=(80, 3390), arrowprops=dict(arrowstyle=\"->\"))\n",
    "\n",
    "# Add title and display plot\n",
    "plt.title(\"Distribution of Premium Amount per Pet, by Species\", y=1.05, fontsize=16)\n",
    "plt.suptitle(\"(Excludes pets with premiums over $250)\", y=0.92, x=0.513, fontsize=12)\n",
    "plt.xlabel(\"Premium Amount, USD\", fontsize=14)\n",
    "plt.ylabel(\"Count\", fontsize=14)\n",
    "plt.legend(labels=(['Cats', 'Dogs']), loc='upper right')\n",
    "plt.savefig('../figures/Premium-by-Species.png')\n",
    "plt.show()"
   ]
  },
  {
   "cell_type": "markdown",
   "metadata": {},
   "source": [
    "Once again, looking at the premium distribution curves we see similar trends for both species but with dogs shifted further to the right. By adding the mean premium values, it's clear that dog owners do pay higher premiums *on average* when compared to cats. \n",
    "\n",
    "How does this trend affect deductible amounts? If dog owners pay higher premiums, then potentially they should have lower deductibles. Rather than plotting a distribution, let's look at a scatterplot of Premium vs. Deductible to see if any noticeable trends stand out."
   ]
  },
  {
   "cell_type": "code",
   "execution_count": null,
   "metadata": {},
   "outputs": [],
   "source": [
    "# Create a scatterplot showing deductible vs premium amounts by species\n",
    "fig, ax = plt.subplots(1, 1, figsize=(12, 6))\n",
    "sns.scatterplot(y=\"Deductible\", x=\"Premium\", data=prem_filter, hue=\"Species\", \n",
    "                alpha=0.2)\n",
    "\n",
    "# Add title and display plot\n",
    "plt.title(\"Deductible vs. Premium by Species\", y=1.05, fontsize=16)\n",
    "plt.suptitle(\"(Excludes pets with premiums over $200)\", y=0.92, x=0.513, fontsize=12)\n",
    "plt.xlabel(\"Premium Amount, USD\", fontsize=14)\n",
    "plt.ylabel(\"Deductible Amount, USD\", fontsize=14)\n",
    "plt.legend(loc='upper right')\n",
    "plt.show()"
   ]
  },
  {
   "cell_type": "code",
   "execution_count": null,
   "metadata": {},
   "outputs": [],
   "source": [
    "# Display the mean deductible per species\n",
    "dog_mean = df[df.Species == 'Dog']['Deductible'].mean()\n",
    "cat_mean = df[df.Species == 'Cat']['Deductible'].mean()\n",
    "print(\"Mean Deductible Amounts by Species (full dataset)\")\n",
    "print('Cat Mean Deductible: ${:.2f}'.format(cat_mean))\n",
    "print('Dog Mean Deductible: ${:.2f}'.format(dog_mean))"
   ]
  },
  {
   "cell_type": "markdown",
   "metadata": {},
   "source": [
    "For deductible, we see a similar striation of the data for both dogs and cats at round number values (250, 500, 750), but it seems clear that cats tend to be bunched on the low end of the spectrum across the range. This trend is confirmed by looking at the mean values for our unfiltered dataframe where we see that dogs do have higher deductibles by ~\\\\$75 on average. So we are starting to see a picture here that *generally*, dogs are more expensive than cats (at least when it comes to insurance payments). \n",
    "\n",
    "**Conclusions**\n",
    "\n",
    "* Dogs and cats both have a broad range of premiums and deductibles with similar distributions for each \n",
    "* On average, dogs have higher premiums and higher deductibles than cats"
   ]
  },
  {
   "cell_type": "markdown",
   "metadata": {},
   "source": [
    "### 3.4 How many pets have claims in one or both years?\n",
    "So far in EDA, we've seen that there isn't much of a difference in the distributions of the total number of claims across species. We've also observed both in EDA and data wrangling, that a significant number of pets have no claims at all within the first two years. \n",
    "\n",
    "**But what trends do we see for pets with claims in one or both years?** \n",
    "* Do the majority have claims in both years or only one year? \n",
    "* Additionally, are there any patterns that jump out when we look at pets with claims in both years in terms of species or age?\n",
    "\n",
    "First, let's create a basic function to determine for each pet, if they have no claims, claims in one year (either year 1 or year 2), or claims in both years. Then we can plot our results to see if anything interesting jumps out."
   ]
  },
  {
   "cell_type": "code",
   "execution_count": null,
   "metadata": {},
   "outputs": [],
   "source": [
    "# Create function to populate new column as count of number of years with claims (0, 1, 2)\n",
    "def claim_yrs(row):\n",
    "    if (row[\"NumClaimsTotal\"] == 0):\n",
    "        return 0\n",
    "    elif ((row[\"NumClaimsYr1\"] > 0) & (row[\"NumClaimsYr2\"] > 0)):\n",
    "        return 2\n",
    "    else:\n",
    "        return 1\n",
    "\n",
    "# Apply function to df to create new column\n",
    "df[\"YrsWithClaims\"] = df.apply(claim_yrs, axis=1)"
   ]
  },
  {
   "cell_type": "code",
   "execution_count": null,
   "metadata": {},
   "outputs": [],
   "source": [
    "# Plot the count of pets with claims in 0, 1 or both years\n",
    "fig, ax = plt.subplots(1, 1, figsize=(12, 6))\n",
    "palette ={\"Dog\": \"#1f77b4\", \"Cat\": \"#ff7f0e\"}\n",
    "sns.countplot(x='YrsWithClaims', data=df, hue=\"Species\", palette=palette).set(ylabel=\"Count\",\n",
    "                                                             xlabel=\"Number of Years with Claims\")\n",
    "\n",
    "# Add title and display plot\n",
    "plt.title(\"Number of Pets with Claims in 0, 1, or Both Years, by Species\", y=1.05, fontsize=14)\n",
    "plt.legend(loc='upper right')\n",
    "plt.show()"
   ]
  },
  {
   "cell_type": "markdown",
   "metadata": {},
   "source": [
    "As noted earlier, the majority of pets in our data (and for each species) have no claims at all in the two years included in the dataset. And again, we see similar looking trends between species in terms of the counts at 0, 1 and 2 years, but it's hard to make out any differences since the dataset is unbalanced toward dogs by nearly 6 to 1. \n",
    "\n",
    "Let's see if plotting this based on the percentage of each species with claims in 0, 1 or 2 years highlights any differences. "
   ]
  },
  {
   "cell_type": "code",
   "execution_count": null,
   "metadata": {},
   "outputs": [],
   "source": [
    "# Calculate the percentage of each species with claims in 0,1, or 2 years\n",
    "claim_yr_counts = (df.groupby(['Species'])['YrsWithClaims']\n",
    "                     .value_counts(normalize=True)\n",
    "                     .rename('Percentage')\n",
    "                     .mul(100)\n",
    "                     .reset_index()\n",
    "                     .sort_values('YrsWithClaims'))\n",
    "\n",
    "# Plot the data \n",
    "fig, ax = plt.subplots(1, 1, figsize=(12, 6))\n",
    "palette ={\"Dog\": \"#1f77b4\", \"Cat\": \"#ff7f0e\"}\n",
    "hue_order = ['Dog', 'Cat']\n",
    "sns.barplot(x=\"YrsWithClaims\", y=\"Percentage\", hue=\"Species\", palette=palette, hue_order=hue_order, \n",
    "            data=claim_yr_counts)\n",
    "\n",
    "# Plot the legend and display\n",
    "plt.title(\"Percentage of Pets with Claims in 0, 1, or 2 Years, by Species\", y=1.05, fontsize=16)\n",
    "plt.xlabel(\"Number of Years with Claims\", fontsize=14)\n",
    "plt.ylabel(\"Percentage of Pets, by Species\", fontsize=14)\n",
    "plt.legend(loc='upper right')\n",
    "plt.savefig('../figures/Claims-by-PolicyYear.png')\n",
    "plt.show()"
   ]
  },
  {
   "cell_type": "markdown",
   "metadata": {},
   "source": [
    "By plotting the percentages of each species with claims in zero, one, or both years, the results are easier to interpret. We see that cats are less likely to have claims overall and dogs are more likely to have claims in one or both policy years. In fact, dogs are almost twice as likely to have claims in both policy years than cats. \n",
    "\n",
    "This is adds more support to the idea that there are some differences in species and it's likely not something we want to drop. We may want to revisit the data on number of years with claims later as we get into breed analysis. For now, we can draw a couple of basic conclusions and move on.\n",
    "\n",
    "**Conclusions**\n",
    "* Around one half of pets in both species have no claims at all\n",
    "* Based on percentages of each species, dogs are more likely to have claims in one or both years."
   ]
  },
  {
   "cell_type": "markdown",
   "metadata": {},
   "source": [
    "### 3.5 Do insurance claims rise with age?\n",
    "On the surface, this feels like the most obvious question in the world and maybe we should just answer \"Yes\" and move on with our lives. But then again, it's probably worth a look to see if our intuition holds.\n",
    "\n",
    "To start with, let's take a very basic, high level look at average total claims per pet by age. No species breakdown yet, let's just try and discern whether age matters at all when it comes to claims amounts."
   ]
  },
  {
   "cell_type": "code",
   "execution_count": null,
   "metadata": {},
   "outputs": [],
   "source": [
    "# Create a line plot showing total claims by Age\n",
    "f, ax = plt.subplots(1, 1, figsize=(16, 6))\n",
    "sns.lineplot(x=\"AgeYr1\", y=\"AmtClaimsTotal\", data=df,\n",
    "             color=\"Green\", ci=95).set(xlabel=\"Age at Enrollment\", ylabel=\"Average Total Claims Amount, USD\")\n",
    "\n",
    "# Add titles and display\n",
    "plt.title(\"Average Total Claims Amount per Pet, by Age at Enrollment\", y=1.05, fontsize=14)\n",
    "# plt.suptitle(\"(Unfiltered Dataset)\", y=0.95, x=0.513, fontsize=11)\n",
    "plt.show()"
   ]
  },
  {
   "cell_type": "markdown",
   "metadata": {},
   "source": [
    "The line plot confirms our intuition - that total claims amounts tend to rise with age. We can also see that the confidence interval expands with age as well, indicating an increase in variability as pets age. This also makes sense as we would expect that some pets stay relatively healthy in old age and some accumulate health issues.\n",
    "\n",
    "An interesting observation in the plot above is that the rising claims average peaks around age 11 and then starts moving back down again. It's hard to say what that's about although it could have something to do with the different life expectancies for pet breeds.\n",
    "\n",
    "Next, let's look at the distribution of total claims by age using a violin plot."
   ]
  },
  {
   "cell_type": "code",
   "execution_count": null,
   "metadata": {},
   "outputs": [],
   "source": [
    "# Create a violin plot showing distribution of total claims based on year of enrollment\n",
    "f, ax = plt.subplots(1, 1, figsize=(16, 6))\n",
    "sns.violinplot(x=\"AgeYr1\", y=\"AmtClaimsTotal\", data=claim_filter,\n",
    "               color=\"Green\").set(xlabel=\"Age at Enrollment\", ylabel=\"Total Claims Amount, USD\")\n",
    "\n",
    "# Add titles and display\n",
    "plt.title(\"Distribution of Total Claims Amount, by Age at Enrollment\", y=1.12, fontsize=14)\n",
    "plt.suptitle(\"(Excludes pets with claims over $10,000 or with > 30 claims)\", y=0.95, x=0.513, fontsize=11)\n",
    "plt.show()"
   ]
  },
  {
   "cell_type": "markdown",
   "metadata": {},
   "source": [
    "At a high level, the violin plot shows the distribution of total claims amounts changing with age. As age increases, we see the spread of total claims amounts increasing as well. That said, the details of the distribution are difficult to make out in this view and it's tough to know if there is anything significant going on or not.\n",
    "\n",
    "Let's take a look at the cumulative distributions by age and species and see if that provides a clearer picture."
   ]
  },
  {
   "cell_type": "code",
   "execution_count": null,
   "metadata": {},
   "outputs": [],
   "source": [
    "# Plot the ecdf of total claims by pet age at enrollment\n",
    "g = sns.displot(claim_filter, x=\"AmtClaimsTotal\", col=\"AgeYr1\", col_wrap=7, hue=\"Species\",\n",
    "                kind=\"ecdf\", height=1.8, legend=False) \n",
    "g.set_axis_labels(\"\", \"\");\n",
    "\n",
    "# Add titles, legend and display\n",
    "plt.title(\"Cumulative Distribution of Total Claims Amount per Pet, by Age of Enrollment\",\n",
    "          y=3, x=-3.4, fontsize=14)\n",
    "plt.suptitle(\"(Excludes pets with total claims over $10000)\", y=1.08, x=0.513, fontsize=11)\n",
    "g.fig.legend(labels=['Dogs', 'Cats'], bbox_to_anchor=(1.01, 1), loc='upper left', borderaxespad=0)\n",
    "plt.gcf().text(0.4, -0.025, 'Total Claims Amount per Pet, USD', fontsize=12)\n",
    "plt.gcf().text(-0.02, 0.3, 'Cumulative Distribution', fontsize=12, rotation=90)\n",
    "plt.show()"
   ]
  },
  {
   "cell_type": "markdown",
   "metadata": {},
   "source": [
    "Looking at the cumulative distributions, we see similar trends at every age. This view also supports the earlier observation that variability tends to increase with age.\n",
    "\n",
    "In terms of species differences, we can see that at just about every age, dogs *tend* to have higher claims amounts, although the differences are very slight in most cases. At the oldest band of of ages - 11, 12, and 13 - the curves start to become more erratic, likely due to the fact that the number of pets in our data is very low in that range.\n",
    "\n",
    "We have one more age-related feature we should explore before drawing final conclusions about age in general. When we encoded the age category as an integer value, we also added a column as a designation of pets that were very young at the time of enrollment (0-7 years old). Let's take a deeper look at this in the context of total claims to see if we find anything interesting.\n",
    "\n",
    "First, let's get a feel for the value counts for the feature."
   ]
  },
  {
   "cell_type": "code",
   "execution_count": null,
   "metadata": {},
   "outputs": [],
   "source": [
    "df.YoungAge.value_counts()"
   ]
  },
  {
   "cell_type": "markdown",
   "metadata": {},
   "source": [
    "So the number of young pets is quite small in comparison to the number of pets overall and likely too small to matter much. Let's see if this feature tells us much about number of claims or total claims. "
   ]
  },
  {
   "cell_type": "code",
   "execution_count": null,
   "metadata": {},
   "outputs": [],
   "source": [
    "df.groupby('YoungAge').agg({'NumClaimsYr1': ['mean', 'median'], 'NumClaimsYr2': ['mean', 'median'],\n",
    "                            'AmtClaimsYr1': ['mean', 'median'], 'AmtClaimsYr2': ['mean', 'median']})"
   ]
  },
  {
   "cell_type": "markdown",
   "metadata": {},
   "source": [
    "Just looking at the mean and median values for number of claims and total claims, we see that YoungAge does play a factor in terms of claims in year 1 with younger pets having slightly elevated claims numbers. This difference all but disappears in year 2, expecially when comparing the total claims amount (which is our target for prediction).\n",
    "\n",
    "These numbers could be skewed by the fact that we are comparing very young pets to the entire age range of our other pets. What if we only compare pets who were very young at enrollment with pets who we classified as 0 at age of enrollment (older than 7 weeks, but less than 1 year)?"
   ]
  },
  {
   "cell_type": "code",
   "execution_count": null,
   "metadata": {},
   "outputs": [],
   "source": [
    "df[df.AgeYr1 == 0].groupby('YoungAge').agg({'NumClaimsYr1': ['mean', 'median'],\n",
    "                                            'NumClaimsYr2': ['mean', 'median'],\n",
    "                                            'AmtClaimsYr1': ['mean', 'median'],\n",
    "                                            'AmtClaimsYr2': ['mean', 'median']})"
   ]
  },
  {
   "cell_type": "markdown",
   "metadata": {},
   "source": [
    "Interesting! In this case, the differences actually increase a bit when looking at total claims amounts in year 2. This is enough evidence that we should probably maintain this feature for use in our predictive model.\n",
    "\n",
    "**Conclusions**\n",
    "* Average total claims amounts tend to rise with age \n",
    "* The variability of total claims amounts also rises with age\n",
    "* Age matters when it comes to claims amounts, but it doesn't follow a straighforward linear relationship\n",
    "* Pets that were very young at the time of enrollment (7 weeks or younger) have higher claims amounts on average in years 1 and 2 than pets who were older than 7 weeks but still under a year  "
   ]
  },
  {
   "cell_type": "markdown",
   "metadata": {},
   "source": [
    "Next, let's take a look at enroll path to determine if this matters at all for our analysis.\n",
    "\n",
    "### 3.6 Does enroll path tell us anything about pet claims?\n",
    "Intuitively, it's probably safe to say no. But it could be the case that enroll path tells us something about the pet owners that translates into more or fewer claims. Let's start by looking at a count of pets in each category."
   ]
  },
  {
   "cell_type": "code",
   "execution_count": null,
   "metadata": {},
   "outputs": [],
   "source": [
    "df.EnrollPath.value_counts()"
   ]
  },
  {
   "cell_type": "markdown",
   "metadata": {},
   "source": [
    "It looks like we have 3 possibilities, Web, Phone and EB. It's unclear what \"EB\" stands for, but luckliy that is a pretty small percentage of our data. The majority of pets were enrolled by either Web or Phone.\n",
    "\n",
    "Since claims amounts are the focus of this project, let's see if there is any noticeable difference in the distributions of number or amount of claims related to enroll path. If not, it's probably safe for us to drop this column."
   ]
  },
  {
   "cell_type": "code",
   "execution_count": null,
   "metadata": {},
   "outputs": [],
   "source": [
    "# Create box plots showing distribution of number and amount of claims by enroll path\n",
    "f, (ax1, ax2) = plt.subplots(1, 2, figsize=(12, 4))\n",
    "sns.boxplot(x=\"EnrollPath\", y=\"NumClaimsTotal\", data=df, ax=ax1,\n",
    "            sym=\"\").set(title = \"Number of Claims per Pet\", xlabel=\"\", ylabel=\"\")\n",
    "sns.boxplot(x=\"EnrollPath\", y=\"AmtClaimsTotal\", data=df, ax=ax2,\n",
    "            sym=\"\").set(title = \"Total Amount of Claims per Pet\", xlabel=\"\", ylabel=\"\")\n",
    "\n",
    "plt.suptitle(\"Distribution of Claims per Pet by Enroll Path\", y=1.05, fontsize=14)\n",
    "plt.show()"
   ]
  },
  {
   "cell_type": "markdown",
   "metadata": {},
   "source": [
    "The distributions look very similar for all enroll paths which supports our original assertion that enroll path shouldn't have any significant impact on number or amount of claims.\n",
    "\n",
    "Before moving on, let's look at a scatterplot for each and add a regression line. "
   ]
  },
  {
   "cell_type": "code",
   "execution_count": null,
   "metadata": {},
   "outputs": [],
   "source": [
    "# Plot a regression model for each enroll path showing number of claims vs. amount of claims\n",
    "g = sns.lmplot(x=\"NumClaimsTotal\", y=\"AmtClaimsTotal\", col=\"EnrollPath\", hue=\"EnrollPath\", data=claim_filter,\n",
    "           ci=None, palette=\"muted\", height=4, scatter_kws={\"s\": 50, \"alpha\": 0.2})\n",
    "g.set_axis_labels(\"Total Number of Claims\", \"Total Amount of Claims, USD\");\n",
    "\n",
    "plt.suptitle(\"Number of Claims vs. Amount of Claims per Pet by Enroll Path\", y=1.07, fontsize=14)\n",
    "plt.show()"
   ]
  },
  {
   "cell_type": "markdown",
   "metadata": {},
   "source": [
    "Adding the regression lines is a bit more helpful as we can see a similar trend across all three categories. For EB though, there's so little data that it's hard to trust the regression line especially as we get further out into the outliers.\n",
    "\n",
    "While we do see some slight variation in the plots above, it doesn't seem to be significant enough to draw the conclusion that enroll path has an affect on number or amount of claims. Given this, we'll drop that column and move on."
   ]
  },
  {
   "cell_type": "code",
   "execution_count": null,
   "metadata": {},
   "outputs": [],
   "source": [
    "# Drop EnrollPath\n",
    "df = df.drop(columns=[\"EnrollPath\"])"
   ]
  },
  {
   "cell_type": "markdown",
   "metadata": {},
   "source": [
    "### 3.7 Do certain pet breeds have higher claims than others?\n",
    "Again, the answer here seems like a pretty obvious \"Yes\", but let's see if we can prove that out in the data.\n",
    "\n",
    "Let's start by getting a count of the number of unique breeds in each species."
   ]
  },
  {
   "cell_type": "code",
   "execution_count": null,
   "metadata": {},
   "outputs": [],
   "source": [
    "# Get a counts of unique breeds in each species\n",
    "df.groupby(\"Species\").Breed.nunique()"
   ]
  },
  {
   "cell_type": "markdown",
   "metadata": {},
   "source": [
    "We have quite a high number of unique breeds in the data overall with dog breeds outnumbering cat breeds nearly 6 to 1 (similar to what we observed in out count of pets per breed).\n",
    "\n",
    "To get started with our analysis, let's group our data by breed so we can get a count of pets and an average total claims amount for each breed."
   ]
  },
  {
   "cell_type": "code",
   "execution_count": null,
   "metadata": {},
   "outputs": [],
   "source": [
    "# Group pets by breed and aggregate claims data columns\n",
    "pets_by_breed = df.groupby(by=['Breed', 'Species', 'MixedBreed']).agg({'PetId': ['count'],\n",
    "                                                         'AmtClaimsTotal': ['mean'],\n",
    "                                                         'NumClaimsTotal': ['mean']}).reset_index()\n",
    "pets_by_breed.columns = ['Breed', 'Species', 'MixedBreed', 'PetCount', 'AvgTotalClaims', 'AvgNumClaims']\n",
    "\n",
    "# Preview\n",
    "pets_by_breed.head(10)"
   ]
  },
  {
   "cell_type": "markdown",
   "metadata": {},
   "source": [
    "#### Initial Observations\n",
    "Already we see a couple of problems with breed:\n",
    "\n",
    "1. First, it's clear there is a pretty large variance in the number of pets for each breed. Looking at the above, we see numbers ranging from 1 to 64. (And we already know from data wrangling that we have some breeds with over 3000 pets.) \n",
    "\n",
    "2. Second, due to this wide range, we have at least one breed with a very low count (Aidi - 1) with \\$0 in total claims. Does that mean Aidi never have claims? Doubtful. On the flip side, we also see the opposite problem where certain breeds with low a low number of pets have a very high average claims amount (e.g., Akbash Dog). \n",
    "\n",
    "We'll need to address these issues somehow or else, we may just need to drop breed from the data. Let's continue on with the analysis to see what else we discover. We'll start by sorting the data to identify the breeds with the highest average claims amount."
   ]
  },
  {
   "cell_type": "code",
   "execution_count": null,
   "metadata": {},
   "outputs": [],
   "source": [
    "# Sort data by average claims amount and view the top ten\n",
    "pets_by_breed.sort_values(\"AvgTotalClaims\", ascending=False).head(10)"
   ]
  },
  {
   "cell_type": "markdown",
   "metadata": {},
   "source": [
    "As suspected, we see the most expensive breed, Selkirk Rex, only includes data for one pet. And overall, the top ten is dominated by breeds with low pet counts. \n",
    "\n",
    "Next, let's filter the outlier breeds (average total claims > \\$5000 and average number of claims > 8) and take a look at a scatter plot of average total claims vs. average number of claims in each breed. To add some interest, we can color the plot by species and size the points by the count of pets in each breed.\n",
    "\n",
    "We'll also plot a horizontal line showing the weighted average for total claims by breed and a vertical line showing the weighted average for the number of claims per breed. This will help to smooth our outlier values a bit more and hopefully provide a better picture as to the true mean value across all breeds. "
   ]
  },
  {
   "cell_type": "code",
   "execution_count": null,
   "metadata": {},
   "outputs": [],
   "source": [
    "# Filter outliers to get a better view\n",
    "filtered_pets = pets_by_breed[(pets_by_breed.AvgTotalClaims < 5000) &\\\n",
    "                             (pets_by_breed.AvgNumClaims < 6)]\n",
    "\n",
    "# Create a scatterplot showing count of breed vs avg total claims\n",
    "fig, ax = plt.subplots(1, 1, figsize=(14, 8))\n",
    "sns.scatterplot(x=\"AvgNumClaims\", y=\"AvgTotalClaims\", data=filtered_pets, hue='Species', \n",
    "                hue_order=['Dog', 'Cat'], alpha=0.6, size=\"PetCount\", sizes=(10, 1000))\n",
    "\n",
    "# Calculate weighted averages for total claims and number of claims\n",
    "pets_by_breed[\"WeightedTotalClaims\"] = pets_by_breed[\"PetCount\"] * pets_by_breed[\"AvgTotalClaims\"]\n",
    "weighted_avg_amt = pets_by_breed[\"WeightedTotalClaims\"].sum() / pets_by_breed[\"PetCount\"].sum()\n",
    "pets_by_breed[\"WeightedNumClaims\"] = pets_by_breed[\"PetCount\"] * pets_by_breed[\"AvgNumClaims\"]\n",
    "weighted_avg_num = pets_by_breed[\"WeightedNumClaims\"].sum() / pets_by_breed[\"PetCount\"].sum()\n",
    "\n",
    "# Plot lines showing the weighted averages for all breeds\n",
    "plt.axhline(weighted_avg_amt, color='gray', linestyle='dashed', linewidth=1)\n",
    "plt.axvline(weighted_avg_num, color='gray', linestyle='dashed', linewidth=1)\n",
    "plt.text(0.5, 3200, \"Weighted Averages\")\n",
    "ax.annotate(\"\", xy=(0.4, 1485), xytext=(0.65, 3100), arrowprops=dict(arrowstyle=\"->\"))\n",
    "ax.annotate(\"\", xy=(3.1, 3100), xytext=(1.6, 3225), arrowprops=dict(arrowstyle=\"->\"))\n",
    "\n",
    "# Add title and display plot\n",
    "plt.title(\"Average Number of Claims vs. Average Total Claims Amount, by Breed and Species\",\n",
    "          y=1.05, fontsize=16)\n",
    "plt.suptitle(\"(Includes breeds with Average Number of Claims < 8 and Average Total Claims < $5000)\", \n",
    "             y=0.91, x=0.513, fontsize=12)\n",
    "plt.xlabel(\"Average Number of Claims\", fontsize=14)\n",
    "plt.ylabel(\"Average Total Claims, USD\", fontsize=14)\n",
    "plt.legend(bbox_to_anchor=(1.01, 1), loc='upper left', borderaxespad=0, borderpad=1.5, labelspacing=2)\n",
    "plt.savefig('../figures/Avg-Claims-by-Species.png')\n",
    "plt.show()"
   ]
  },
  {
   "cell_type": "markdown",
   "metadata": {},
   "source": [
    "Looking at the plot above, we see that cat breeds tend to be located in the lower left quadrant, which tells us that cats tend to have lower total claims on average than dogs. We also see a significant amount of variability for breeds with very few pets (reinforcing the initial breed observations).\n",
    "\n",
    "**Are there any interesting trends related to Mixed Breed pets?**\n",
    "\n",
    "In data wrangling, we added a designation to our data for pets being either from a *mixed breed* category or not. Let's look at the same plot as above but using the 'MixedBreed' designation for our hue."
   ]
  },
  {
   "cell_type": "code",
   "execution_count": null,
   "metadata": {},
   "outputs": [],
   "source": [
    "# Create a scatterplot showing count of breed vs avg total claims\n",
    "fig, ax = plt.subplots(1, 1, figsize=(14, 8))\n",
    "sns.scatterplot(x=\"AvgNumClaims\", y=\"AvgTotalClaims\", data=filtered_pets, hue='MixedBreed',\n",
    "                palette=['green', 'red'], alpha=0.4, size=\"PetCount\", sizes=(10, 1000))\\\n",
    "                .set(xlabel=\"Average Number of Claims\", ylabel=\"Average Total Claims, USD\")\n",
    "\n",
    "# Plot lines showing the weighted averages for all breeds\n",
    "plt.axhline(weighted_avg_amt, color='gray', linestyle='dashed', linewidth=1)\n",
    "plt.axvline(weighted_avg_num, color='gray', linestyle='dashed', linewidth=1)\n",
    "\n",
    "# Add title and display plot\n",
    "plt.title(\"Average Number of Claims vs. Average Total Claims Amount, by Breed (Mixed or Not Mixed)\",\n",
    "          y=1.05, fontsize=14)\n",
    "plt.suptitle(\"(Includes breeds with Average Number of Claims < 8 and Average Total Claims < $5000)\", \n",
    "             y=0.91, x=0.513, fontsize=11)\n",
    "# plt.legend(loc='upper right', borderpad=1.5, labelspacing=2, title_fontsize='medium')\n",
    "plt.legend(bbox_to_anchor=(1.01, 1), loc='upper left', borderaxespad=0, borderpad=1.5, labelspacing=2)\n",
    "plt.show()"
   ]
  },
  {
   "cell_type": "markdown",
   "metadata": {},
   "source": [
    "We see the mixed breeds showing up in red above. Not only do they tend to be on the higher end of the pet count range, they also tend to be closer to the lower left quadrant of all breeds. That said, it's not apparent that there is a significant difference between mixed and non-mixed breeds and we should be safe to drop this column form the data.\n",
    "\n",
    "In both of the plots above we see an interesting trend line cross-cutting our weighted averages as the number of pets in a breed increases. Based on this, it does appear that breed plays a factor in claims amounts.Before moving on, let's filter out breeds with low pet counts and plot a regression model to see if the trend becomes clearer."
   ]
  },
  {
   "cell_type": "code",
   "execution_count": null,
   "metadata": {},
   "outputs": [],
   "source": [
    "# Filter outlier breeds and breeds with low pet count\n",
    "filtered_pets = pets_by_breed[(pets_by_breed.AvgTotalClaims < 5000) &\\\n",
    "                             (pets_by_breed.AvgNumClaims < 8) &\\\n",
    "                             (pets_by_breed.PetCount > 30)]\n",
    "\n",
    "# Plot a regression model\n",
    "fig, ax = plt.subplots(1, 1, figsize=(16, 8))\n",
    "sns.regplot(x=\"AvgNumClaims\", y=\"AvgTotalClaims\", data=filtered_pets, color='g', \n",
    "            scatter_kws={\"s\": 100, \"alpha\": 0.2}).set(xlabel=\"Average Number of Claims\", \n",
    "                                                      ylabel=\"Average Total Claims, USD\")\n",
    "\n",
    "# Add title and display\n",
    "plt.title(\"Average Number of Claims vs. Average Total Claims Amount, by Breed and Species\",\n",
    "          y=1.05, fontsize=14)\n",
    "plt.suptitle(\"(Includes breeds with Average Number of Claims < 8, Average Total Claims < $5000 and Pet Counts > 30)\", \n",
    "             y=0.91, x=0.513, fontsize=11)\n",
    "plt.show()"
   ]
  },
  {
   "cell_type": "markdown",
   "metadata": {},
   "source": [
    "The plot above shows a clear trend across all breeds that as the number of claims increases, the amount of claims increases in a fairly linear fashion. We do see the variability increasing as the number of claims rises, but not by a dramatic amount.\n",
    "\n",
    "While on the surface, this observation might seem obvious (i.e., as the number of claims goes up, so does the amount), the key takeaway here is that **breed does seem to matter** when it come to predicting claims amounts. So we know we shouldn't drop breed from the data, but we'll have to come up with some way of dealing with the large number of breed categories in preprocessing.\n",
    "\n",
    "**Conclusions**\n",
    "\n",
    "* As the average number of claims for a breed goes up, the average total claims amount goes up in a linear fashion\n",
    "* As the number of pets in a breed increases, the variability in claims (number and amount) goes down, moving the breed closer to the linear trend line\n",
    "* Breed matters when it comes to total claims amounts and we'll need to determine how to handle this categorical feature given the large number of unique values\n",
    "* The *mixed breed* designation doess not appear to factor in to claims amounts and can be dropped"
   ]
  },
  {
   "cell_type": "markdown",
   "metadata": {},
   "source": [
    "### 3.8 Is there any significant correlation between claims in year 2 and our other features?\n",
    "\n",
    "So far we've observed a few trends in the data related to species, age and breed. but we haven't necessarily observed any strong connection between our features and our planned target (i.e., the amount of claims in year 2). Let's see if we can verify that finding by looking at a correlation matrix.\n",
    "\n",
    "First we'll filter down to a subset of our features that we are likely to include in our predictive model and then we can calculate correlations and plot the result in a heatmap. For this analysis, we'll break it out by species since we have seen evidence throughout that points to differences between cats and dogs."
   ]
  },
  {
   "cell_type": "code",
   "execution_count": null,
   "metadata": {},
   "outputs": [],
   "source": [
    "# Filter data by species\n",
    "cats = df[df.Species == 'Cat']\n",
    "dogs = df[df.Species == 'Dog']\n",
    "\n",
    "# Filter species dfs down the a subset of features\n",
    "cols = ['Premium', 'Deductible', 'AgeYr1', 'YoungAge', 'MixedBreed', 'AmtClaimsYr1',\n",
    "             'AvgClaimsYr1', 'NumClaimsYr1', 'AmtClaimsYr2']\n",
    "cats_filtered = cats[cols]\n",
    "dogs_filtered = dogs[cols]"
   ]
  },
  {
   "cell_type": "code",
   "execution_count": null,
   "metadata": {},
   "outputs": [],
   "source": [
    "# Create correlation matrices\n",
    "cats_corr = cats_filtered.corr()\n",
    "dogs_corr = dogs_filtered.corr()\n",
    "\n",
    "# Plot the corresponding heatmaps\n",
    "plt.figure(figsize=(10,6))\n",
    "_ = sns.heatmap(dogs_corr, cmap=\"Blues\")\n",
    "plt.title(\"Correlation between Features and Target - Dogs\", y=1.05, fontsize=14)\n",
    "plt.savefig('../figures/Feature-Correlation-Dogs.png')\n",
    "plt.show()\n",
    "\n",
    "plt.figure(figsize=(10,6))\n",
    "_ = sns.heatmap(cats_corr, cmap=\"YlOrBr\")\n",
    "plt.title(\"Correlation between Features and Target - Cats\", y=1.05, fontsize=14)\n",
    "plt.savefig('../figures/Feature-Correlation-Cats.png')\n",
    "plt.show()"
   ]
  },
  {
   "cell_type": "raw",
   "metadata": {},
   "source": [
    "We do see some positive correlations in the 0.6 and higher range, but nothing really well correlated with our claims amounts in year 2. The feature most correlated with the amount of claims in year 2 is the amount of claims in year 1, but even that is very low (in the ~0.2 range). \n",
    "\n",
    "Given that nothing interesting is jumping out from the correlation matrices, let's get this wrapped up and move on to preprocessing."
   ]
  },
  {
   "cell_type": "markdown",
   "metadata": {},
   "source": [
    "## 4 Summary and Conclusions\n",
    "So what have we discovered during EDA? Let's summarize the key points.\n",
    "\n",
    "**Species**\n",
    "* Dogs and cats display similar patterns for claims, but on average, dogs tend to have more claims and higher claims totals\n",
    "* Dogs and cats both have a broad range of premiums and deductibles with similar distributions for each, but *on average*, dogs have higher premiums and higher deductibles than cats\n",
    "* Around one half of pets in both species have no claims at all, but cats are more likely to have claims in one or both years\n",
    "\n",
    "**Pet Age**\n",
    "* Average total claims amounts and the variability of total claims amounts tend to rise with age \n",
    "* Age matters when it comes to claims amounts, but it doesn't follow a straighforward linear relationship\n",
    "\n",
    "**Breed**\n",
    "* As the average number of claims for a breed goes up, the average total claims amount goes up in a linear fashion\n",
    "* As the number of pets in a breed increases, the variability in claims (number and amount) goes down, moving the breed closer to the linear trend line\n",
    "* Breed matters when it comes to total claims amounts and we'll need to determine how to handle this categorical feature given the large number of unique values\n",
    "\n",
    "**Correlation**\n",
    "* Generally, we have weak to no correlation between our features and our target variable (AmtClaimsYr2)\n",
    "\n",
    "**Dropped Columns**\n",
    "* Based on our analysis above, we decided to drop 'EnrollPath' and 'MixedBreed' from our dataframe"
   ]
  },
  {
   "cell_type": "markdown",
   "metadata": {},
   "source": [
    "### 4.1 Data Cleanup and Export"
   ]
  },
  {
   "cell_type": "code",
   "execution_count": null,
   "metadata": {},
   "outputs": [],
   "source": [
    "# Drop MixedBreed\n",
    "pets = df.drop(columns=[\"MixedBreed\"])\n",
    "breeds = pets_by_breed.drop(columns=[\"MixedBreed\"])"
   ]
  },
  {
   "cell_type": "code",
   "execution_count": null,
   "metadata": {},
   "outputs": [],
   "source": [
    "# Previewing updated dataframe\n",
    "pets.head().T"
   ]
  },
  {
   "cell_type": "code",
   "execution_count": null,
   "metadata": {},
   "outputs": [],
   "source": [
    "# Previewing updated dataframe\n",
    "breeds.head().T"
   ]
  },
  {
   "cell_type": "markdown",
   "metadata": {},
   "source": [
    "### 4.2 Ideas for preprocessing / feature engineering\n",
    "\n",
    "**Species** \n",
    "* Convert species to binary or split data and make predictions for cats and dogs separately\n",
    "\n",
    "**Breed** \n",
    "* Consider raising the threshold higher to eliminate more of the unique values for breed\n",
    "    * One approach could be to group breeds together as high, med, low in terms of average claims\n",
    "    * Determine a minimum threshold of number of pets per breed and for any breeds under the threshold, replace the breed with 'Other'  \n",
    "* Include breed summary statistics as new features; consider replacing certain pet-level \n",
    "\n",
    "**Premium and Deductible** \n",
    "* Consider rolling these up on a per breed basis to eliminate some variability. Since this is something set by the customer, there likely isn't much value in keeping the actual amounts per pet.\n",
    "\n",
    "**AgeYr1** \n",
    "* Consider adding new features that factor in age (e.g., average total claims by age)\n",
    "\n",
    "**YoungAge** \n",
    "* No changes, or decide to drop this altogether since the number of pets with this desigation is very low\n",
    "\n",
    "**AmtClaimsYr1 and AvgClaimsYr1** \n",
    "* Keep as-is or consider rolling these up into one feature. It also might be interesting to roll these up by breed.\n",
    "\n",
    "**NumClaimsYr1** \n",
    "* Consider dropping this column dependent on what is done with the other two claims columns for year 1 \n",
    "* This could also be rolled up by Breed, or converted to a binary (claims and no-claims), although we would technically already know this provided the value for AmtClaims is greater than 0.\n",
    "\n",
    "**Yr2 and Total columns** \n",
    "* Drop all columns except AmtClaimsYr2 (our target) as the others would not be fair to use in a predictive model for year 2\n",
    "\n",
    "**YrsWithClaims** \n",
    "* No changes planned\n"
   ]
  },
  {
   "cell_type": "markdown",
   "metadata": {},
   "source": [
    "### 4.3 Write New Data Files"
   ]
  },
  {
   "cell_type": "code",
   "execution_count": null,
   "metadata": {},
   "outputs": [],
   "source": [
    "# Write final dfs to csv \n",
    "pets.to_csv('../data/pets.csv')\n",
    "breeds.to_csv('../data/breeds.csv')"
   ]
  }
 ],
 "metadata": {
  "kernelspec": {
   "display_name": "Python 3",
   "language": "python",
   "name": "python3"
  },
  "language_info": {
   "codemirror_mode": {
    "name": "ipython",
    "version": 3
   },
   "file_extension": ".py",
   "mimetype": "text/x-python",
   "name": "python",
   "nbconvert_exporter": "python",
   "pygments_lexer": "ipython3",
   "version": "3.8.8"
  }
 },
 "nbformat": 4,
 "nbformat_minor": 4
}
